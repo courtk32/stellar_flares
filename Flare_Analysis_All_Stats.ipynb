{
 "cells": [
  {
   "cell_type": "code",
   "execution_count": null,
   "metadata": {},
   "outputs": [],
   "source": []
  },
  {
   "cell_type": "code",
   "execution_count": null,
   "metadata": {},
   "outputs": [],
   "source": [
    "def veiwlimitedcurves(statscsv, path='found_flares_436/'):\n",
    "    stats = pd.read_csv(statscsv)\n",
    "    statslim = stats.loc[((stats[\"chi_flare\"] <= 100) & (stats['red_flare'] + 1 < stats['red_gauss']) & \n",
    "                          ((stats[\"ypos\"] >= 10) | (stats['ypos'] < 3075)) & \n",
    "                          ((stats['end_time'] - stats['flare_time']) > 0.01) &\n",
    "                          (stats['dof_flare'] > 15))]  \n",
    "    for i in range(len(statslim['id'])):\n",
    "        filepath = path + statslim['match_file'].values[i] + '_id_' + str(statslim['id'].values[i]) + '*.png'\n",
    "        filepath = glob.glob(filepath)\n",
    "        for j in filepath:\n",
    "            display(Image(filename=j))"
   ]
  },
  {
   "cell_type": "code",
   "execution_count": null,
   "metadata": {},
   "outputs": [],
   "source": []
  },
  {
   "cell_type": "code",
   "execution_count": null,
   "metadata": {},
   "outputs": [],
   "source": []
  },
  {
   "cell_type": "code",
   "execution_count": null,
   "metadata": {},
   "outputs": [],
   "source": []
  }
 ],
 "metadata": {
  "kernelspec": {
   "display_name": "Python 3",
   "language": "python",
   "name": "python3"
  },
  "language_info": {
   "codemirror_mode": {
    "name": "ipython",
    "version": 3
   },
   "file_extension": ".py",
   "mimetype": "text/x-python",
   "name": "python",
   "nbconvert_exporter": "python",
   "pygments_lexer": "ipython3",
   "version": "3.6.8"
  }
 },
 "nbformat": 4,
 "nbformat_minor": 2
}
