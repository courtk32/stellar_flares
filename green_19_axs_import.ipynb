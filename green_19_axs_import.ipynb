{
 "cells": [
  {
   "cell_type": "markdown",
   "metadata": {},
   "source": [
    "# Converting Green+19 to AXS"
   ]
  },
  {
   "cell_type": "code",
   "execution_count": 48,
   "metadata": {},
   "outputs": [],
   "source": [
    "%matplotlib inline\n",
    "import axs\n",
    "import os\n",
    "from glob import glob\n",
    "\n",
    "import pandas as pd\n",
    "import numpy as np\n",
    "import matplotlib\n",
    "import matplotlib.pyplot as plt\n",
    "import astropy.coordinates as coord\n",
    "import astropy.units as u\n",
    "from multiprocessing import Pool\n",
    "\n",
    "import h5py\n",
    "import pyspark.sql.functions as sparkfunc"
   ]
  },
  {
   "cell_type": "code",
   "execution_count": 3,
   "metadata": {},
   "outputs": [
    {
     "data": {
      "text/plain": [
       "'2.9.0'"
      ]
     },
     "execution_count": 3,
     "metadata": {},
     "output_type": "execute_result"
    }
   ],
   "source": [
    "h5py.__version__"
   ]
  },
  {
   "cell_type": "code",
   "execution_count": 4,
   "metadata": {},
   "outputs": [],
   "source": [
    "def spark_start(project_path, metastore=None, local_dir=None):\n",
    "    from pyspark.sql import SparkSession\n",
    "\n",
    "    warehouse_location = project_path #os.path.join(project_path, 'spark-warehouse')\n",
    "\n",
    "    if local_dir is None:\n",
    "        local_dir = os.path.join(project_path, 'spark-tmp')\n",
    "\n",
    "    spark = ( \n",
    "            SparkSession.builder\n",
    "            .appName(\"LSD2\")\n",
    "            .config(\"spark.sql.warehouse.dir\", warehouse_location)\n",
    "            .config('spark.master', \"local[6]\")\n",
    "            .config('spark.driver.memory', '8G') # 128\n",
    "            .config('spark.local.dir', local_dir)\n",
    "            .config('spark.memory.offHeap.enabled', 'true')\n",
    "            .config('spark.memory.offHeap.size', '4G') # 256\n",
    "            .config(\"spark.sql.execution.arrow.enabled\", \"true\")\n",
    "            .config(\"spark.driver.maxResultSize\", \"6G\")\n",
    "            .config(\"spark.driver.extraJavaOptions\", f\"-Dderby.system.home={metastore}\")\n",
    "            .enableHiveSupport()\n",
    "            .getOrCreate()\n",
    "                    )   \n",
    "\n",
    "    return spark\n",
    "\n",
    "spark_session = spark_start(\"/epyc/data/\", local_dir=\"/epyc/users/ecbellm\")\n",
    "\n",
    "#catalog = axs.AxsCatalog(spark_session)"
   ]
  },
  {
   "cell_type": "code",
   "execution_count": 5,
   "metadata": {},
   "outputs": [
    {
     "data": {
      "text/html": [
       "\n",
       "            <div>\n",
       "                <p><b>SparkSession - hive</b></p>\n",
       "                \n",
       "        <div>\n",
       "            <p><b>SparkContext</b></p>\n",
       "\n",
       "            <p><a href=\"http://epyc.astro.washington.edu:4042\">Spark UI</a></p>\n",
       "\n",
       "            <dl>\n",
       "              <dt>Version</dt>\n",
       "                <dd><code>v2.4.0-SNAPSHOT</code></dd>\n",
       "              <dt>Master</dt>\n",
       "                <dd><code>local[6]</code></dd>\n",
       "              <dt>AppName</dt>\n",
       "                <dd><code>LSD2</code></dd>\n",
       "            </dl>\n",
       "        </div>\n",
       "        \n",
       "            </div>\n",
       "        "
      ],
      "text/plain": [
       "<pyspark.sql.session.SparkSession at 0x7ff4dfcdb470>"
      ]
     },
     "execution_count": 5,
     "metadata": {},
     "output_type": "execute_result"
    }
   ],
   "source": [
    "spark_session"
   ]
  },
  {
   "cell_type": "code",
   "execution_count": 30,
   "metadata": {},
   "outputs": [],
   "source": [
    "filename = '/data/epyc/data/bayestar/green_19_stellar_params/3424177.h5'"
   ]
  },
  {
   "cell_type": "code",
   "execution_count": 12,
   "metadata": {},
   "outputs": [],
   "source": [
    "def recast_uint(df):\n",
    "    for column, dtype in zip(df.columns, df.dtypes):\n",
    "        if(dtype == np.uint16):\n",
    "            df[column] = df[column].astype(np.int16)\n",
    "        elif(dtype == np.uint32):\n",
    "            df[column] = df[column].astype(np.int32)\n",
    "        elif(dtype == np.uint64):\n",
    "            df[column] = df[column].astype(np.int64)"
   ]
  },
  {
   "cell_type": "code",
   "execution_count": 49,
   "metadata": {},
   "outputs": [],
   "source": [
    "def make_parquet(filename, clobber=False):\n",
    "    if os.path.exists(filename.replace('h5','parquet')) and not clobber:\n",
    "        print(f'{filename} already converted')\n",
    "        return\n",
    "    \n",
    "    print(f'Converting {filename}...')\n",
    "    f = h5py.File(filename,'r')\n",
    "    percentiles_cols = ['dm','E', 'Mr', 'FeH']\n",
    "    percentiles = [16,50,84]\n",
    "    groups = {'percentiles': percentiles_cols,'metadata':['obj_id','l','b'],'gaia':['gaia_id'], 'chisq':['0']}\n",
    "\n",
    "    dfd = []\n",
    "    for group, cols in groups.items():\n",
    "        dfg = []\n",
    "    \n",
    "        for node, data in f[group].items():\n",
    "            if group not in ['percentiles','chisq']:\n",
    "                dfgi = pd.DataFrame(data[()])[cols]\n",
    "            else:\n",
    "                if group == 'chisq':\n",
    "                    dfgi = pd.DataFrame(data[()],columns=['chisq'])\n",
    "                if group == 'percentiles':\n",
    "                    # TODO: this ordering makes the columns line up by percentiles rather than the model quantity, which is annoying\n",
    "                    dfgi = pd.DataFrame({f'{col}_{p}':data[col][:,i] for i,p in enumerate(percentiles) \n",
    "                                    for col in percentiles_cols}, \n",
    "                                    index=np.arange(len(data[()])))\n",
    "\n",
    "            dfg.append(dfgi)\n",
    "        dfg = pd.concat(dfg)\n",
    "        dfd.append(dfg)\n",
    "    df = pd.concat(dfd, axis=1)\n",
    "    recast_uint(df)\n",
    "\n",
    "    sc = coord.SkyCoord(frame=\"galactic\",l=df['l'],b=df['b'],unit=u.degree)\n",
    "    sc = sc.transform_to(coord.ICRS)\n",
    "    df['ra'] = sc.ra\n",
    "    df['dec'] = sc.dec\n",
    "    df.to_parquet(filename.replace('h5','parquet'))\n",
    "    return"
   ]
  },
  {
   "cell_type": "code",
   "execution_count": 34,
   "metadata": {},
   "outputs": [],
   "source": [
    "base_dir = '/data/epyc/data/bayestar/green_19_stellar_params/'\n",
    "input_h5_files = glob(base_dir+'*.h5')"
   ]
  },
  {
   "cell_type": "code",
   "execution_count": 50,
   "metadata": {},
   "outputs": [
    {
     "name": "stdout",
     "output_type": "stream",
     "text": [
      "/data/epyc/data/bayestar/green_19_stellar_params/3424177.h5 already converted\n",
      "Converting /data/epyc/data/bayestar/green_19_stellar_params/3424196.h5...\n",
      "Converting /data/epyc/data/bayestar/green_19_stellar_params/3424213.h5...\n",
      "Converting /data/epyc/data/bayestar/green_19_stellar_params/3424181.h5...\n",
      "Converting /data/epyc/data/bayestar/green_19_stellar_params/3424217.h5...\n",
      "Converting /data/epyc/data/bayestar/green_19_stellar_params/3424200.h5...\n",
      "Converting /data/epyc/data/bayestar/green_19_stellar_params/3424178.h5...\n",
      "Converting /data/epyc/data/bayestar/green_19_stellar_params/3424222.h5...\n",
      "Converting /data/epyc/data/bayestar/green_19_stellar_params/3424226.h5...\n",
      "Converting /data/epyc/data/bayestar/green_19_stellar_params/3424197.h5...\n",
      "Converting /data/epyc/data/bayestar/green_19_stellar_params/3424192.h5...\n",
      "Converting /data/epyc/data/bayestar/green_19_stellar_params/3424214.h5...\n",
      "Converting /data/epyc/data/bayestar/green_19_stellar_params/3424201.h5...\n",
      "Converting /data/epyc/data/bayestar/green_19_stellar_params/3424227.h5...\n",
      "Converting /data/epyc/data/bayestar/green_19_stellar_params/3424218.h5...\n",
      "Converting /data/epyc/data/bayestar/green_19_stellar_params/3424223.h5...\n",
      "Converting /data/epyc/data/bayestar/green_19_stellar_params/3424179.h5...\n",
      "Converting /data/epyc/data/bayestar/green_19_stellar_params/3424215.h5...\n",
      "Converting /data/epyc/data/bayestar/green_19_stellar_params/3424194.h5...\n",
      "Converting /data/epyc/data/bayestar/green_19_stellar_params/3424198.h5...\n",
      "Converting /data/epyc/data/bayestar/green_19_stellar_params/3424211.h5...\n",
      "Converting /data/epyc/data/bayestar/green_19_stellar_params/3424224.h5...\n",
      "Converting /data/epyc/data/bayestar/green_19_stellar_params/3424228.h5...\n",
      "Converting /data/epyc/data/bayestar/green_19_stellar_params/3424219.h5...\n",
      "Converting /data/epyc/data/bayestar/green_19_stellar_params/3424180.h5...\n",
      "Converting /data/epyc/data/bayestar/green_19_stellar_params/3424195.h5...\n",
      "Converting /data/epyc/data/bayestar/green_19_stellar_params/3424216.h5...\n",
      "Converting /data/epyc/data/bayestar/green_19_stellar_params/3424199.h5...\n",
      "Converting /data/epyc/data/bayestar/green_19_stellar_params/3424212.h5...\n",
      "Converting /data/epyc/data/bayestar/green_19_stellar_params/3424229.h5...\n",
      "Converting /data/epyc/data/bayestar/green_19_stellar_params/3424230.h5...\n",
      "Converting /data/epyc/data/bayestar/green_19_stellar_params/3424225.h5...\n",
      "Converting /data/epyc/data/bayestar/green_19_stellar_params/3424221.h5...\n",
      "Converting /data/epyc/data/bayestar/green_19_stellar_params/3424234.h5...\n",
      "Converting /data/epyc/data/bayestar/green_19_stellar_params/3424239.h5...\n",
      "Converting /data/epyc/data/bayestar/green_19_stellar_params/3424243.h5...\n",
      "Converting /data/epyc/data/bayestar/green_19_stellar_params/3424247.h5...\n",
      "Converting /data/epyc/data/bayestar/green_19_stellar_params/3424251.h5...\n",
      "Converting /data/epyc/data/bayestar/green_19_stellar_params/3424255.h5...\n",
      "Converting /data/epyc/data/bayestar/green_19_stellar_params/3424231.h5...\n",
      "Converting /data/epyc/data/bayestar/green_19_stellar_params/3424262.h5...\n",
      "Converting /data/epyc/data/bayestar/green_19_stellar_params/3424244.h5...\n",
      "Converting /data/epyc/data/bayestar/green_19_stellar_params/3424236.h5...\n",
      "Converting /data/epyc/data/bayestar/green_19_stellar_params/3424248.h5...\n",
      "Converting /data/epyc/data/bayestar/green_19_stellar_params/3424240.h5...\n",
      "Converting /data/epyc/data/bayestar/green_19_stellar_params/3424252.h5...\n",
      "Converting /data/epyc/data/bayestar/green_19_stellar_params/3424256.h5...\n",
      "Converting /data/epyc/data/bayestar/green_19_stellar_params/3424232.h5...\n",
      "Converting /data/epyc/data/bayestar/green_19_stellar_params/3424263.h5...\n",
      "Converting /data/epyc/data/bayestar/green_19_stellar_params/3424237.h5...\n",
      "Converting /data/epyc/data/bayestar/green_19_stellar_params/3424245.h5...\n",
      "Converting /data/epyc/data/bayestar/green_19_stellar_params/3424249.h5...\n",
      "Converting /data/epyc/data/bayestar/green_19_stellar_params/3424241.h5...\n",
      "Converting /data/epyc/data/bayestar/green_19_stellar_params/3424253.h5...\n",
      "Converting /data/epyc/data/bayestar/green_19_stellar_params/3424257.h5...\n",
      "Converting /data/epyc/data/bayestar/green_19_stellar_params/3424233.h5...\n",
      "Converting /data/epyc/data/bayestar/green_19_stellar_params/3424264.h5...\n",
      "Converting /data/epyc/data/bayestar/green_19_stellar_params/3424246.h5...\n",
      "Converting /data/epyc/data/bayestar/green_19_stellar_params/3424238.h5...\n",
      "Converting /data/epyc/data/bayestar/green_19_stellar_params/3424250.h5...\n",
      "Converting /data/epyc/data/bayestar/green_19_stellar_params/3424242.h5...\n",
      "Converting /data/epyc/data/bayestar/green_19_stellar_params/3424254.h5...\n",
      "Converting /data/epyc/data/bayestar/green_19_stellar_params/3424270.h5...\n",
      "Converting /data/epyc/data/bayestar/green_19_stellar_params/3424261.h5...\n",
      "Converting /data/epyc/data/bayestar/green_19_stellar_params/3424265.h5...\n",
      "Converting /data/epyc/data/bayestar/green_19_stellar_params/3424274.h5...\n",
      "Converting /data/epyc/data/bayestar/green_19_stellar_params/3424278.h5...\n",
      "Converting /data/epyc/data/bayestar/green_19_stellar_params/3424282.h5...\n",
      "Converting /data/epyc/data/bayestar/green_19_stellar_params/3424286.h5...\n",
      "Converting /data/epyc/data/bayestar/green_19_stellar_params/3424290.h5...\n",
      "Converting /data/epyc/data/bayestar/green_19_stellar_params/3424271.h5...\n",
      "Converting /data/epyc/data/bayestar/green_19_stellar_params/3424294.h5...\n",
      "Converting /data/epyc/data/bayestar/green_19_stellar_params/3424298.h5...\n",
      "Converting /data/epyc/data/bayestar/green_19_stellar_params/3424275.h5...\n",
      "Converting /data/epyc/data/bayestar/green_19_stellar_params/3424279.h5...\n",
      "Converting /data/epyc/data/bayestar/green_19_stellar_params/3424283.h5...\n",
      "Converting /data/epyc/data/bayestar/green_19_stellar_params/3424287.h5...\n",
      "Converting /data/epyc/data/bayestar/green_19_stellar_params/3424291.h5...\n",
      "Converting /data/epyc/data/bayestar/green_19_stellar_params/3424272.h5...\n",
      "Converting /data/epyc/data/bayestar/green_19_stellar_params/3424299.h5...\n",
      "Converting /data/epyc/data/bayestar/green_19_stellar_params/3424295.h5...\n",
      "Converting /data/epyc/data/bayestar/green_19_stellar_params/3424276.h5...\n",
      "Converting /data/epyc/data/bayestar/green_19_stellar_params/3424280.h5...\n",
      "Converting /data/epyc/data/bayestar/green_19_stellar_params/3424284.h5...\n",
      "Converting /data/epyc/data/bayestar/green_19_stellar_params/3424288.h5...\n",
      "Converting /data/epyc/data/bayestar/green_19_stellar_params/3424292.h5...\n",
      "Converting /data/epyc/data/bayestar/green_19_stellar_params/3424273.h5...\n",
      "Converting /data/epyc/data/bayestar/green_19_stellar_params/3424300.h5...\n",
      "Converting /data/epyc/data/bayestar/green_19_stellar_params/3424296.h5...\n",
      "Converting /data/epyc/data/bayestar/green_19_stellar_params/3424281.h5...\n",
      "Converting /data/epyc/data/bayestar/green_19_stellar_params/3424277.h5...\n",
      "Converting /data/epyc/data/bayestar/green_19_stellar_params/3424285.h5...\n",
      "Converting /data/epyc/data/bayestar/green_19_stellar_params/3424289.h5...\n",
      "Converting /data/epyc/data/bayestar/green_19_stellar_params/3424293.h5...\n",
      "Converting /data/epyc/data/bayestar/green_19_stellar_params/3424302.h5...\n",
      "Converting /data/epyc/data/bayestar/green_19_stellar_params/3424301.h5...\n",
      "Converting /data/epyc/data/bayestar/green_19_stellar_params/3424297.h5...\n"
     ]
    }
   ],
   "source": [
    "with Pool(8) as p:\n",
    "    p.map(make_parquet, input_h5_files)"
   ]
  },
  {
   "cell_type": "code",
   "execution_count": null,
   "metadata": {},
   "outputs": [],
   "source": []
  },
  {
   "cell_type": "code",
   "execution_count": null,
   "metadata": {},
   "outputs": [],
   "source": []
  },
  {
   "cell_type": "code",
   "execution_count": null,
   "metadata": {},
   "outputs": [],
   "source": []
  },
  {
   "cell_type": "code",
   "execution_count": 40,
   "metadata": {},
   "outputs": [],
   "source": [
    "# conversion from single pandas dataframa\n",
    "#sdf = spark_session.createDataFrame(df)"
   ]
  },
  {
   "cell_type": "code",
   "execution_count": 52,
   "metadata": {},
   "outputs": [],
   "source": [
    "# read a directory of files\n",
    "sdf = spark_session.read.parquet('/epyc/data/bayestar/green_19_stellar_params/parquet/')"
   ]
  },
  {
   "cell_type": "code",
   "execution_count": 38,
   "metadata": {},
   "outputs": [],
   "source": [
    "catalog = axs.AxsCatalog(spark_session)"
   ]
  },
  {
   "cell_type": "code",
   "execution_count": 62,
   "metadata": {},
   "outputs": [
    {
     "name": "stdout",
     "output_type": "stream",
     "text": [
      "'Table or view not found: green19_stellar_params;'\n"
     ]
    }
   ],
   "source": [
    "catalog.drop_table('green19_stellar_params')\n"
   ]
  },
  {
   "cell_type": "code",
   "execution_count": 63,
   "metadata": {},
   "outputs": [],
   "source": [
    "catalog.save_axs_table( sdf, 'green19_stellar_params', repartition=True, calculate_zone=True)"
   ]
  },
  {
   "cell_type": "code",
   "execution_count": 64,
   "metadata": {},
   "outputs": [
    {
     "data": {
      "text/plain": [
       "dict_keys(['sdss_zoned1am_hd', 'gaia_zoned1am_hd', 'gaia_dr2_1am_dup', 'sdss_zoned1am_700lc', 'gaia_dr2_700lc2', 'allwise_1am_dup', 'gaia_sdss_wise_1asec', 'gaia_sdss_3asec', 'ztf_1am_old', 'ztf_exposures', 'ztf_1am_lc', 'ztf_1am', 'ztf_1am_test', 'sesar_rrlyrae', 'ztf_fid1_sdss_stars_lt20_2asec', 'ztf_fid2_sdss_stars_lt20_2asec', 'ztf_fid3_sdss_stars_lt20_2asec', 'sdss_dr9_qso_s82', 'faraway_training_dataset', 'faraway_labeled_training_dataset', 'ztf_nobs100', 'jnk_ztf_test', 'jnk_ztf_test2', 'ztf1000', 'ztf10', 'ztf_dec18', 'asassn_variability_catalog', 'ztf10_assasn', 'ztf10_assasn_cesium', 'ztf10_assasn_best', 'ztf10_assasn_cesium_best', 'unwise_v1', 'cklein_flare', 'unwise_v2', 'cesium_speedtest_ztfsample', 'paula_listcvs', 'nemec_rrlyrae_metalicity', 'dambis_rrlyrae_metalicity', 'sdss_500b_28e_10800z', 'gaia_500b_28e_10800z', 'allwise_500b_28e_10800z', 'ztf_500b_28e_10800z', 'ztf_mar19_all', 'ztf_dr1_s82_qso', 'green19_stellar_params'])"
      ]
     },
     "execution_count": 64,
     "metadata": {},
     "output_type": "execute_result"
    }
   ],
   "source": [
    "catalog.list_tables().keys()"
   ]
  },
  {
   "cell_type": "code",
   "execution_count": 65,
   "metadata": {},
   "outputs": [
    {
     "name": "stdout",
     "output_type": "stream",
     "text": [
      "CPU times: user 8.69 ms, sys: 9.7 ms, total: 18.4 ms\n",
      "Wall time: 129 ms\n"
     ]
    }
   ],
   "source": [
    "%%time\n",
    "g19 = catalog.load(\"green19_stellar_params\")"
   ]
  },
  {
   "cell_type": "code",
   "execution_count": 66,
   "metadata": {},
   "outputs": [
    {
     "data": {
      "text/plain": [
       "['dm_16',\n",
       " 'E_16',\n",
       " 'Mr_16',\n",
       " 'FeH_16',\n",
       " 'dm_50',\n",
       " 'E_50',\n",
       " 'Mr_50',\n",
       " 'FeH_50',\n",
       " 'dm_84',\n",
       " 'E_84',\n",
       " 'Mr_84',\n",
       " 'FeH_84',\n",
       " 'obj_id',\n",
       " 'l',\n",
       " 'b',\n",
       " 'gaia_id',\n",
       " 'chisq',\n",
       " 'ra',\n",
       " 'dec',\n",
       " '__index_level_0__',\n",
       " 'zone',\n",
       " 'dup']"
      ]
     },
     "execution_count": 66,
     "metadata": {},
     "output_type": "execute_result"
    }
   ],
   "source": [
    "g19.columns"
   ]
  },
  {
   "cell_type": "code",
   "execution_count": 67,
   "metadata": {},
   "outputs": [
    {
     "name": "stdout",
     "output_type": "stream",
     "text": [
      "CPU times: user 4.63 ms, sys: 6.05 ms, total: 10.7 ms\n",
      "Wall time: 1.55 s\n"
     ]
    }
   ],
   "source": [
    "%%time\n",
    "ztf = catalog.load(\"ztf_mar19_all\")"
   ]
  },
  {
   "cell_type": "code",
   "execution_count": 68,
   "metadata": {},
   "outputs": [
    {
     "data": {
      "text/plain": [
       "['matchid',\n",
       " 'ra',\n",
       " 'dec',\n",
       " 'nobs_avail',\n",
       " 'combined_matchids',\n",
       " 'mjd',\n",
       " 'programid',\n",
       " 'filterid',\n",
       " 'mag',\n",
       " 'magerr',\n",
       " 'psfmag',\n",
       " 'psfmagerr',\n",
       " 'psfflux',\n",
       " 'psffluxerr',\n",
       " 'chi',\n",
       " 'catflags',\n",
       " 'sharp',\n",
       " 'xpos',\n",
       " 'ypos',\n",
       " 'zone',\n",
       " 'dup']"
      ]
     },
     "execution_count": 68,
     "metadata": {},
     "output_type": "execute_result"
    }
   ],
   "source": [
    "ztf.columns"
   ]
  },
  {
   "cell_type": "code",
   "execution_count": 69,
   "metadata": {},
   "outputs": [],
   "source": [
    "testra = 287.9869104\n",
    "testdec = 13.0748496\n",
    "d = 10/3600.\n"
   ]
  },
  {
   "cell_type": "code",
   "execution_count": 71,
   "metadata": {},
   "outputs": [
    {
     "name": "stdout",
     "output_type": "stream",
     "text": [
      "CPU times: user 28.4 ms, sys: 13.1 ms, total: 41.5 ms\n",
      "Wall time: 22.4 s\n"
     ]
    }
   ],
   "source": [
    "%%time\n",
    "g19_match = ztf.region(ra1=testra-d, ra2=testra+d, dec1=testdec-d, dec2=testdec+d).crossmatch(g19).select(\"matchid\",\"ra\",\"dec\",'dm_16',\n",
    " 'E_16',\n",
    " 'Mr_16',\n",
    " 'FeH_16',\n",
    " 'dm_50',\n",
    " 'E_50',\n",
    " 'Mr_50',\n",
    " 'FeH_50',\n",
    " 'dm_84',\n",
    " 'E_84',\n",
    " 'Mr_84',\n",
    " 'FeH_84').toPandas()"
   ]
  },
  {
   "cell_type": "code",
   "execution_count": 72,
   "metadata": {},
   "outputs": [
    {
     "data": {
      "text/html": [
       "<div>\n",
       "<style scoped>\n",
       "    .dataframe tbody tr th:only-of-type {\n",
       "        vertical-align: middle;\n",
       "    }\n",
       "\n",
       "    .dataframe tbody tr th {\n",
       "        vertical-align: top;\n",
       "    }\n",
       "\n",
       "    .dataframe thead th {\n",
       "        text-align: right;\n",
       "    }\n",
       "</style>\n",
       "<table border=\"1\" class=\"dataframe\">\n",
       "  <thead>\n",
       "    <tr style=\"text-align: right;\">\n",
       "      <th></th>\n",
       "      <th>matchid</th>\n",
       "      <th>ra</th>\n",
       "      <th>dec</th>\n",
       "      <th>dm_16</th>\n",
       "      <th>E_16</th>\n",
       "      <th>Mr_16</th>\n",
       "      <th>FeH_16</th>\n",
       "      <th>dm_50</th>\n",
       "      <th>E_50</th>\n",
       "      <th>Mr_50</th>\n",
       "      <th>FeH_50</th>\n",
       "      <th>dm_84</th>\n",
       "      <th>E_84</th>\n",
       "      <th>Mr_84</th>\n",
       "      <th>FeH_84</th>\n",
       "    </tr>\n",
       "  </thead>\n",
       "  <tbody>\n",
       "    <tr>\n",
       "      <th>0</th>\n",
       "      <td>10539322169560</td>\n",
       "      <td>287.985648</td>\n",
       "      <td>13.076047</td>\n",
       "      <td>11.757848</td>\n",
       "      <td>1.268043</td>\n",
       "      <td>2.950000</td>\n",
       "      <td>-0.624185</td>\n",
       "      <td>12.931591</td>\n",
       "      <td>1.423063</td>\n",
       "      <td>3.95</td>\n",
       "      <td>-0.400</td>\n",
       "      <td>14.213696</td>\n",
       "      <td>1.535800</td>\n",
       "      <td>5.774185</td>\n",
       "      <td>-0.200000</td>\n",
       "    </tr>\n",
       "    <tr>\n",
       "      <th>1</th>\n",
       "      <td>10539322144433</td>\n",
       "      <td>287.985927</td>\n",
       "      <td>13.075574</td>\n",
       "      <td>11.255817</td>\n",
       "      <td>1.014585</td>\n",
       "      <td>3.150000</td>\n",
       "      <td>-0.600000</td>\n",
       "      <td>13.029734</td>\n",
       "      <td>1.568482</td>\n",
       "      <td>4.35</td>\n",
       "      <td>-0.375</td>\n",
       "      <td>14.455096</td>\n",
       "      <td>1.734339</td>\n",
       "      <td>8.074185</td>\n",
       "      <td>-0.175815</td>\n",
       "    </tr>\n",
       "    <tr>\n",
       "      <th>2</th>\n",
       "      <td>10539322095877</td>\n",
       "      <td>287.986183</td>\n",
       "      <td>13.076572</td>\n",
       "      <td>12.025167</td>\n",
       "      <td>1.498015</td>\n",
       "      <td>1.950000</td>\n",
       "      <td>-0.700000</td>\n",
       "      <td>13.333874</td>\n",
       "      <td>1.615024</td>\n",
       "      <td>3.05</td>\n",
       "      <td>-0.450</td>\n",
       "      <td>14.796666</td>\n",
       "      <td>1.712202</td>\n",
       "      <td>4.274185</td>\n",
       "      <td>-0.200000</td>\n",
       "    </tr>\n",
       "    <tr>\n",
       "      <th>3</th>\n",
       "      <td>10539322095931</td>\n",
       "      <td>287.986859</td>\n",
       "      <td>13.074891</td>\n",
       "      <td>7.737913</td>\n",
       "      <td>0.082347</td>\n",
       "      <td>11.475815</td>\n",
       "      <td>-0.150000</td>\n",
       "      <td>7.996738</td>\n",
       "      <td>0.223051</td>\n",
       "      <td>11.95</td>\n",
       "      <td>0.100</td>\n",
       "      <td>8.255173</td>\n",
       "      <td>0.340853</td>\n",
       "      <td>12.550000</td>\n",
       "      <td>0.250000</td>\n",
       "    </tr>\n",
       "  </tbody>\n",
       "</table>\n",
       "</div>"
      ],
      "text/plain": [
       "          matchid          ra        dec      dm_16      E_16      Mr_16  \\\n",
       "0  10539322169560  287.985648  13.076047  11.757848  1.268043   2.950000   \n",
       "1  10539322144433  287.985927  13.075574  11.255817  1.014585   3.150000   \n",
       "2  10539322095877  287.986183  13.076572  12.025167  1.498015   1.950000   \n",
       "3  10539322095931  287.986859  13.074891   7.737913  0.082347  11.475815   \n",
       "\n",
       "     FeH_16      dm_50      E_50  Mr_50  FeH_50      dm_84      E_84  \\\n",
       "0 -0.624185  12.931591  1.423063   3.95  -0.400  14.213696  1.535800   \n",
       "1 -0.600000  13.029734  1.568482   4.35  -0.375  14.455096  1.734339   \n",
       "2 -0.700000  13.333874  1.615024   3.05  -0.450  14.796666  1.712202   \n",
       "3 -0.150000   7.996738  0.223051  11.95   0.100   8.255173  0.340853   \n",
       "\n",
       "       Mr_84    FeH_84  \n",
       "0   5.774185 -0.200000  \n",
       "1   8.074185 -0.175815  \n",
       "2   4.274185 -0.200000  \n",
       "3  12.550000  0.250000  "
      ]
     },
     "execution_count": 72,
     "metadata": {},
     "output_type": "execute_result"
    }
   ],
   "source": [
    "g19_match"
   ]
  }
 ],
 "metadata": {
  "kernelspec": {
   "display_name": "Python 3-AXS Spark",
   "language": "python",
   "name": "spark-smj"
  },
  "language_info": {
   "codemirror_mode": {
    "name": "ipython",
    "version": 3
   },
   "file_extension": ".py",
   "mimetype": "text/x-python",
   "name": "python",
   "nbconvert_exporter": "python",
   "pygments_lexer": "ipython3",
   "version": "3.6.8"
  }
 },
 "nbformat": 4,
 "nbformat_minor": 2
}
