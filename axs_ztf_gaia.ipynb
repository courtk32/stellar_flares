{
 "cells": [
  {
   "cell_type": "code",
   "execution_count": 1,
   "metadata": {},
   "outputs": [],
   "source": [
    "%matplotlib inline\n",
    "import axs\n",
    "import os\n",
    "\n",
    "import pandas as pd\n",
    "import numpy as np\n",
    "import matplotlib\n",
    "import matplotlib.pyplot as plt\n",
    "from astropy.io import ascii\n",
    "\n",
    "import pyspark.sql.functions as sparkfunc"
   ]
  },
  {
   "cell_type": "code",
   "execution_count": 2,
   "metadata": {},
   "outputs": [],
   "source": [
    "matplotlib.rcParams['figure.dpi'] = 120"
   ]
  },
  {
   "cell_type": "code",
   "execution_count": 3,
   "metadata": {},
   "outputs": [],
   "source": [
    "def spark_start(project_path, metastore=None, local_dir=None):\n",
    "    from pyspark.sql import SparkSession\n",
    "\n",
    "    warehouse_location = project_path #os.path.join(project_path, 'spark-warehouse')\n",
    "\n",
    "    if local_dir is None:\n",
    "        local_dir = os.path.join(project_path, 'spark-tmp')\n",
    "\n",
    "    spark = ( \n",
    "            SparkSession.builder\n",
    "            .appName(\"LSD2\")\n",
    "            .config(\"spark.sql.warehouse.dir\", warehouse_location)\n",
    "            .config('spark.master', \"local[6]\")\n",
    "            .config('spark.driver.memory', '8G') # 128\n",
    "            .config('spark.local.dir', local_dir)\n",
    "            .config('spark.memory.offHeap.enabled', 'true')\n",
    "            .config('spark.memory.offHeap.size', '4G') # 256\n",
    "            .config(\"spark.sql.execution.arrow.enabled\", \"true\")\n",
    "            .config(\"spark.driver.maxResultSize\", \"6G\")\n",
    "            .config(\"spark.driver.extraJavaOptions\", f\"-Dderby.system.home={metastore}\")\n",
    "            .enableHiveSupport()\n",
    "            .getOrCreate()\n",
    "                    )   \n",
    "\n",
    "    return spark\n",
    "\n",
    "spark_session = spark_start(\"/epyc/data/\", local_dir=\"/epyc/users/ecbellm\")\n",
    "\n",
    "#catalog = axs.AxsCatalog(spark_session)"
   ]
  },
  {
   "cell_type": "code",
   "execution_count": 4,
   "metadata": {},
   "outputs": [
    {
     "data": {
      "text/html": [
       "\n",
       "            <div>\n",
       "                <p><b>SparkSession - hive</b></p>\n",
       "                \n",
       "        <div>\n",
       "            <p><b>SparkContext</b></p>\n",
       "\n",
       "            <p><a href=\"http://epyc.astro.washington.edu:4044\">Spark UI</a></p>\n",
       "\n",
       "            <dl>\n",
       "              <dt>Version</dt>\n",
       "                <dd><code>v2.4.0-SNAPSHOT</code></dd>\n",
       "              <dt>Master</dt>\n",
       "                <dd><code>local[6]</code></dd>\n",
       "              <dt>AppName</dt>\n",
       "                <dd><code>LSD2</code></dd>\n",
       "            </dl>\n",
       "        </div>\n",
       "        \n",
       "            </div>\n",
       "        "
      ],
      "text/plain": [
       "<pyspark.sql.session.SparkSession at 0x7f89e5e5b278>"
      ]
     },
     "execution_count": 4,
     "metadata": {},
     "output_type": "execute_result"
    }
   ],
   "source": [
    "spark_session"
   ]
  },
  {
   "cell_type": "code",
   "execution_count": 5,
   "metadata": {},
   "outputs": [],
   "source": [
    "catalog = axs.AxsCatalog(spark_session)"
   ]
  },
  {
   "cell_type": "code",
   "execution_count": 6,
   "metadata": {},
   "outputs": [
    {
     "data": {
      "text/plain": [
       "dict_keys(['sdss_zoned1am_hd', 'gaia_zoned1am_hd', 'gaia_dr2_1am_dup', 'sdss_zoned1am_700lc', 'gaia_dr2_700lc2', 'allwise_1am_dup', 'gaia_sdss_wise_1asec', 'gaia_sdss_3asec', 'ztf_1am_old', 'ztf_exposures', 'ztf_1am_lc', 'ztf_1am', 'ztf_1am_test', 'sesar_rrlyrae', 'ztf_fid1_sdss_stars_lt20_2asec', 'ztf_fid2_sdss_stars_lt20_2asec', 'ztf_fid3_sdss_stars_lt20_2asec', 'sdss_dr9_qso_s82', 'ztf_sdss_dr9_qso', 'faraway_training_dataset', 'faraway_labeled_training_dataset', 'ztf_nobs100', 'jnk_ztf_test', 'jnk_ztf_test2', 'ztf1000', 'ztf_sdss_dr9_qso2', 'ztf10', 'ztf_dec18', 'asassn_variability_catalog', 'ztf10_assasn', 'ztf10_assasn_cesium', 'ztf10_assasn_best', 'ztf10_assasn_cesium_best', 'unwise_v1', 'cklein_flare', 'unwise_v2', 'cesium_speedtest_ztfsample', 'paula_listcvs', 'nemec_rrlyrae_metalicity', 'dambis_rrlyrae_metalicity', 'sdss_500b_28e_10800z', 'gaia_500b_28e_10800z', 'allwise_500b_28e_10800z', 'ztf_500b_28e_10800z', 'ztf_mar19_all'])"
      ]
     },
     "execution_count": 6,
     "metadata": {},
     "output_type": "execute_result"
    }
   ],
   "source": [
    "catalog.list_tables().keys()"
   ]
  },
  {
   "cell_type": "code",
   "execution_count": 7,
   "metadata": {},
   "outputs": [
    {
     "name": "stdout",
     "output_type": "stream",
     "text": [
      "CPU times: user 9.14 ms, sys: 5.69 ms, total: 14.8 ms\n",
      "Wall time: 4.45 s\n"
     ]
    }
   ],
   "source": [
    "%%time\n",
    "ztf = catalog.load(\"ztf_mar19_all\")"
   ]
  },
  {
   "cell_type": "code",
   "execution_count": 8,
   "metadata": {},
   "outputs": [
    {
     "data": {
      "text/plain": [
       "['matchid',\n",
       " 'ra',\n",
       " 'dec',\n",
       " 'nobs_avail',\n",
       " 'combined_matchids',\n",
       " 'mjd',\n",
       " 'programid',\n",
       " 'filterid',\n",
       " 'mag',\n",
       " 'magerr',\n",
       " 'psfmag',\n",
       " 'psfmagerr',\n",
       " 'psfflux',\n",
       " 'psffluxerr',\n",
       " 'chi',\n",
       " 'catflags',\n",
       " 'sharp',\n",
       " 'xpos',\n",
       " 'ypos',\n",
       " 'zone',\n",
       " 'dup']"
      ]
     },
     "execution_count": 8,
     "metadata": {},
     "output_type": "execute_result"
    }
   ],
   "source": [
    "ztf.columns"
   ]
  },
  {
   "cell_type": "code",
   "execution_count": 9,
   "metadata": {},
   "outputs": [],
   "source": [
    "testra = 287.9869104\n",
    "testdec = 13.0748496\n",
    "d = 10/3600.\n"
   ]
  },
  {
   "cell_type": "code",
   "execution_count": 10,
   "metadata": {},
   "outputs": [
    {
     "name": "stdout",
     "output_type": "stream",
     "text": [
      "CPU times: user 22.2 ms, sys: 9.23 ms, total: 31.4 ms\n",
      "Wall time: 20.8 s\n"
     ]
    }
   ],
   "source": [
    "%%time\n",
    "radec = ztf.region(ra1=testra-d, ra2=testra+d, dec1=testdec-d, dec2=testdec+d).select(\"ra\", \"dec\").toPandas()\n"
   ]
  },
  {
   "cell_type": "code",
   "execution_count": 11,
   "metadata": {},
   "outputs": [
    {
     "data": {
      "text/plain": [
       "8"
      ]
     },
     "execution_count": 11,
     "metadata": {},
     "output_type": "execute_result"
    }
   ],
   "source": [
    "len(radec)"
   ]
  },
  {
   "cell_type": "code",
   "execution_count": 12,
   "metadata": {},
   "outputs": [
    {
     "data": {
      "text/plain": [
       "[<matplotlib.lines.Line2D at 0x7f13a4105898>]"
      ]
     },
     "execution_count": 12,
     "metadata": {},
     "output_type": "execute_result"
    },
    {
     "data": {
      "image/png": "[encoded data removed]",
      "text/plain": [
       "<Figure size 720x480 with 1 Axes>"
      ]
     },
     "metadata": {},
     "output_type": "display_data"
    }
   ],
   "source": [
    "plt.plot(radec['ra'], radec['dec'], 'o')"
   ]
  },
  {
   "cell_type": "code",
   "execution_count": 13,
   "metadata": {},
   "outputs": [
    {
     "data": {
      "text/plain": [
       "<matplotlib.collections.PolyCollection at 0x7f13a40a3b70>"
      ]
     },
     "execution_count": 13,
     "metadata": {},
     "output_type": "execute_result"
    },
    {
     "data": {
      "image/png": "[encoded data removed]",
      "text/plain": [
       "<Figure size 720x480 with 1 Axes>"
      ]
     },
     "metadata": {},
     "output_type": "display_data"
    }
   ],
   "source": [
    "plt.hexbin(radec['ra'], radec['dec'])"
   ]
  },
  {
   "cell_type": "code",
   "execution_count": 9,
   "metadata": {},
   "outputs": [],
   "source": [
    "gaia = catalog.load(\"gaia_dr2_1am_dup\")"
   ]
  },
  {
   "cell_type": "code",
   "execution_count": 10,
   "metadata": {},
   "outputs": [
    {
     "data": {
      "text/plain": [
       "['solution_id',\n",
       " 'designation',\n",
       " 'source_id',\n",
       " 'random_index',\n",
       " 'ref_epoch',\n",
       " 'ra',\n",
       " 'ra_error',\n",
       " 'dec',\n",
       " 'dec_error',\n",
       " 'parallax',\n",
       " 'parallax_error',\n",
       " 'parallax_over_error',\n",
       " 'pmra',\n",
       " 'pmra_error',\n",
       " 'pmdec',\n",
       " 'pmdec_error',\n",
       " 'ra_dec_corr',\n",
       " 'ra_parallax_corr',\n",
       " 'ra_pmra_corr',\n",
       " 'ra_pmdec_corr',\n",
       " 'dec_parallax_corr',\n",
       " 'dec_pmra_corr',\n",
       " 'dec_pmdec_corr',\n",
       " 'parallax_pmra_corr',\n",
       " 'parallax_pmdec_corr',\n",
       " 'pmra_pmdec_corr',\n",
       " 'astrometric_n_obs_al',\n",
       " 'astrometric_n_obs_ac',\n",
       " 'astrometric_n_good_obs_al',\n",
       " 'astrometric_n_bad_obs_al',\n",
       " 'astrometric_gof_al',\n",
       " 'astrometric_chi2_al',\n",
       " 'astrometric_excess_noise',\n",
       " 'astrometric_excess_noise_sig',\n",
       " 'astrometric_params_solved',\n",
       " 'astrometric_primary_flag',\n",
       " 'astrometric_weight_al',\n",
       " 'astrometric_pseudo_colour',\n",
       " 'astrometric_pseudo_colour_error',\n",
       " 'mean_varpi_factor_al',\n",
       " 'astrometric_matched_observations',\n",
       " 'visibility_periods_used',\n",
       " 'astrometric_sigma5d_max',\n",
       " 'frame_rotator_object_type',\n",
       " 'matched_observations',\n",
       " 'duplicated_source',\n",
       " 'phot_g_n_obs',\n",
       " 'phot_g_mean_flux',\n",
       " 'phot_g_mean_flux_error',\n",
       " 'phot_g_mean_flux_over_error',\n",
       " 'phot_g_mean_mag',\n",
       " 'phot_bp_n_obs',\n",
       " 'phot_bp_mean_flux',\n",
       " 'phot_bp_mean_flux_error',\n",
       " 'phot_bp_mean_flux_over_error',\n",
       " 'phot_bp_mean_mag',\n",
       " 'phot_rp_n_obs',\n",
       " 'phot_rp_mean_flux',\n",
       " 'phot_rp_mean_flux_error',\n",
       " 'phot_rp_mean_flux_over_error',\n",
       " 'phot_rp_mean_mag',\n",
       " 'phot_bp_rp_excess_factor',\n",
       " 'phot_proc_mode',\n",
       " 'bp_rp',\n",
       " 'bp_g',\n",
       " 'g_rp',\n",
       " 'radial_velocity',\n",
       " 'radial_velocity_error',\n",
       " 'rv_nb_transits',\n",
       " 'rv_template_teff',\n",
       " 'rv_template_logg',\n",
       " 'rv_template_fe_h',\n",
       " 'phot_variable_flag',\n",
       " 'l',\n",
       " 'b',\n",
       " 'ecl_lon',\n",
       " 'ecl_lat',\n",
       " 'priam_flags',\n",
       " 'teff_val',\n",
       " 'teff_percentile_lower',\n",
       " 'teff_percentile_upper',\n",
       " 'a_g_val',\n",
       " 'a_g_percentile_lower',\n",
       " 'a_g_percentile_upper',\n",
       " 'e_bp_min_rp_val',\n",
       " 'e_bp_min_rp_percentile_lower',\n",
       " 'e_bp_min_rp_percentile_upper',\n",
       " 'flame_flags',\n",
       " 'radius_val',\n",
       " 'radius_percentile_lower',\n",
       " 'radius_percentile_upper',\n",
       " 'lum_val',\n",
       " 'lum_percentile_lower',\n",
       " 'lum_percentile_upper',\n",
       " 'hpix12',\n",
       " 'zone',\n",
       " 'dup']"
      ]
     },
     "execution_count": 10,
     "metadata": {},
     "output_type": "execute_result"
    }
   ],
   "source": [
    "gaia.columns"
   ]
  },
  {
   "cell_type": "code",
   "execution_count": 18,
   "metadata": {},
   "outputs": [
    {
     "name": "stdout",
     "output_type": "stream",
     "text": [
      "CPU times: user 15.9 ms, sys: 8.06 ms, total: 24 ms\n",
      "Wall time: 25.1 s\n"
     ]
    }
   ],
   "source": [
    "%%time\n",
    "gradec = gaia.region(ra1=testra-d, ra2=testra+d, dec1=testdec-d, dec2=testdec+d).select(\"source_id\",\"designation\",\"ra\", \"dec\").toPandas()\n"
   ]
  },
  {
   "cell_type": "code",
   "execution_count": 19,
   "metadata": {},
   "outputs": [
    {
     "data": {
      "text/html": [
       "<div>\n",
       "<style scoped>\n",
       "    .dataframe tbody tr th:only-of-type {\n",
       "        vertical-align: middle;\n",
       "    }\n",
       "\n",
       "    .dataframe tbody tr th {\n",
       "        vertical-align: top;\n",
       "    }\n",
       "\n",
       "    .dataframe thead th {\n",
       "        text-align: right;\n",
       "    }\n",
       "</style>\n",
       "<table border=\"1\" class=\"dataframe\">\n",
       "  <thead>\n",
       "    <tr style=\"text-align: right;\">\n",
       "      <th></th>\n",
       "      <th>source_id</th>\n",
       "      <th>designation</th>\n",
       "      <th>ra</th>\n",
       "      <th>dec</th>\n",
       "    </tr>\n",
       "  </thead>\n",
       "  <tbody>\n",
       "    <tr>\n",
       "      <th>0</th>\n",
       "      <td>4314064752144351104</td>\n",
       "      <td>Gaia DR2 4314064752144351104</td>\n",
       "      <td>287.985078</td>\n",
       "      <td>13.076073</td>\n",
       "    </tr>\n",
       "    <tr>\n",
       "      <th>1</th>\n",
       "      <td>4314064752141722880</td>\n",
       "      <td>Gaia DR2 4314064752141722880</td>\n",
       "      <td>287.985759</td>\n",
       "      <td>13.076016</td>\n",
       "    </tr>\n",
       "    <tr>\n",
       "      <th>2</th>\n",
       "      <td>4314064752144511104</td>\n",
       "      <td>Gaia DR2 4314064752144511104</td>\n",
       "      <td>287.986000</td>\n",
       "      <td>13.075421</td>\n",
       "    </tr>\n",
       "    <tr>\n",
       "      <th>3</th>\n",
       "      <td>4314064747823789440</td>\n",
       "      <td>Gaia DR2 4314064747823789440</td>\n",
       "      <td>287.986201</td>\n",
       "      <td>13.076558</td>\n",
       "    </tr>\n",
       "    <tr>\n",
       "      <th>4</th>\n",
       "      <td>4314064752187515520</td>\n",
       "      <td>Gaia DR2 4314064752187515520</td>\n",
       "      <td>287.986870</td>\n",
       "      <td>13.074879</td>\n",
       "    </tr>\n",
       "    <tr>\n",
       "      <th>5</th>\n",
       "      <td>4314064752141447168</td>\n",
       "      <td>Gaia DR2 4314064752141447168</td>\n",
       "      <td>287.988826</td>\n",
       "      <td>13.074090</td>\n",
       "    </tr>\n",
       "    <tr>\n",
       "      <th>6</th>\n",
       "      <td>4314064747823772032</td>\n",
       "      <td>Gaia DR2 4314064747823772032</td>\n",
       "      <td>287.989137</td>\n",
       "      <td>13.074146</td>\n",
       "    </tr>\n",
       "  </tbody>\n",
       "</table>\n",
       "</div>"
      ],
      "text/plain": [
       "             source_id                   designation          ra        dec\n",
       "0  4314064752144351104  Gaia DR2 4314064752144351104  287.985078  13.076073\n",
       "1  4314064752141722880  Gaia DR2 4314064752141722880  287.985759  13.076016\n",
       "2  4314064752144511104  Gaia DR2 4314064752144511104  287.986000  13.075421\n",
       "3  4314064747823789440  Gaia DR2 4314064747823789440  287.986201  13.076558\n",
       "4  4314064752187515520  Gaia DR2 4314064752187515520  287.986870  13.074879\n",
       "5  4314064752141447168  Gaia DR2 4314064752141447168  287.988826  13.074090\n",
       "6  4314064747823772032  Gaia DR2 4314064747823772032  287.989137  13.074146"
      ]
     },
     "execution_count": 19,
     "metadata": {},
     "output_type": "execute_result"
    }
   ],
   "source": [
    "gradec"
   ]
  },
  {
   "cell_type": "code",
   "execution_count": 65,
   "metadata": {},
   "outputs": [
    {
     "name": "stdout",
     "output_type": "stream",
     "text": [
      "CPU times: user 32 ms, sys: 18 ms, total: 50 ms\n",
      "Wall time: 1min 10s\n"
     ]
    }
   ],
   "source": [
    "%%time\n",
    "gaia_match = ztf.region(ra1=testra-d, ra2=testra+d, dec1=testdec-d, dec2=testdec+d).crossmatch(gaia).select(\"matchid\",\"combined_matchids\",\"ra\",\"dec\",\"source_id\",\"bp_rp\", \"phot_g_mean_mag\", \"phot_g_mean_flux_over_error\", \"parallax\", \"parallax_error\",\"axsdist\").toPandas()"
   ]
  },
  {
   "cell_type": "code",
   "execution_count": 66,
   "metadata": {},
   "outputs": [
    {
     "data": {
      "text/html": [
       "<div>\n",
       "<style scoped>\n",
       "    .dataframe tbody tr th:only-of-type {\n",
       "        vertical-align: middle;\n",
       "    }\n",
       "\n",
       "    .dataframe tbody tr th {\n",
       "        vertical-align: top;\n",
       "    }\n",
       "\n",
       "    .dataframe thead th {\n",
       "        text-align: right;\n",
       "    }\n",
       "</style>\n",
       "<table border=\"1\" class=\"dataframe\">\n",
       "  <thead>\n",
       "    <tr style=\"text-align: right;\">\n",
       "      <th></th>\n",
       "      <th>matchid</th>\n",
       "      <th>combined_matchids</th>\n",
       "      <th>ra</th>\n",
       "      <th>dec</th>\n",
       "      <th>source_id</th>\n",
       "      <th>bp_rp</th>\n",
       "      <th>phot_g_mean_mag</th>\n",
       "      <th>phot_g_mean_flux_over_error</th>\n",
       "      <th>parallax</th>\n",
       "      <th>parallax_error</th>\n",
       "      <th>axsdist</th>\n",
       "    </tr>\n",
       "  </thead>\n",
       "  <tbody>\n",
       "    <tr>\n",
       "      <th>0</th>\n",
       "      <td>539091210021486</td>\n",
       "      <td>[539091210021486, 539091210021486, 53909121002...</td>\n",
       "      <td>287.985131</td>\n",
       "      <td>13.076150</td>\n",
       "      <td>4314064752144351104</td>\n",
       "      <td>NaN</td>\n",
       "      <td>21.252653</td>\n",
       "      <td>26.392502</td>\n",
       "      <td>NaN</td>\n",
       "      <td>NaN</td>\n",
       "      <td>1.624088e-06</td>\n",
       "    </tr>\n",
       "    <tr>\n",
       "      <th>1</th>\n",
       "      <td>539091200169560</td>\n",
       "      <td>[539091200169560, 539091200169560, 53909120016...</td>\n",
       "      <td>287.985645</td>\n",
       "      <td>13.076053</td>\n",
       "      <td>4314064752141722880</td>\n",
       "      <td>1.962526</td>\n",
       "      <td>20.610218</td>\n",
       "      <td>136.230728</td>\n",
       "      <td>1.294866</td>\n",
       "      <td>1.226691</td>\n",
       "      <td>2.097511e-06</td>\n",
       "    </tr>\n",
       "    <tr>\n",
       "      <th>2</th>\n",
       "      <td>539091200144433</td>\n",
       "      <td>[539091200144433, 539091200144433, 53909120014...</td>\n",
       "      <td>287.985909</td>\n",
       "      <td>13.075576</td>\n",
       "      <td>4314064752144511104</td>\n",
       "      <td>NaN</td>\n",
       "      <td>21.399178</td>\n",
       "      <td>32.201534</td>\n",
       "      <td>NaN</td>\n",
       "      <td>NaN</td>\n",
       "      <td>3.141761e-06</td>\n",
       "    </tr>\n",
       "    <tr>\n",
       "      <th>3</th>\n",
       "      <td>539091200095877</td>\n",
       "      <td>[539091200095877, 539091200095877, 53909120009...</td>\n",
       "      <td>287.986180</td>\n",
       "      <td>13.076569</td>\n",
       "      <td>4314064747823789440</td>\n",
       "      <td>1.894012</td>\n",
       "      <td>20.256207</td>\n",
       "      <td>192.555542</td>\n",
       "      <td>-0.059701</td>\n",
       "      <td>0.735873</td>\n",
       "      <td>4.163692e-07</td>\n",
       "    </tr>\n",
       "    <tr>\n",
       "      <th>4</th>\n",
       "      <td>539091200095931</td>\n",
       "      <td>[539091200095931, 539091200095931, 53909120009...</td>\n",
       "      <td>287.986855</td>\n",
       "      <td>13.074891</td>\n",
       "      <td>4314064752187515520</td>\n",
       "      <td>2.932623</td>\n",
       "      <td>19.596601</td>\n",
       "      <td>291.541779</td>\n",
       "      <td>0.867655</td>\n",
       "      <td>0.563483</td>\n",
       "      <td>3.282545e-07</td>\n",
       "    </tr>\n",
       "    <tr>\n",
       "      <th>5</th>\n",
       "      <td>539091200022594</td>\n",
       "      <td>[539091200022594, 539091200022594, 53909120002...</td>\n",
       "      <td>287.988869</td>\n",
       "      <td>13.074118</td>\n",
       "      <td>4314064752141447168</td>\n",
       "      <td>2.656782</td>\n",
       "      <td>20.182062</td>\n",
       "      <td>183.464554</td>\n",
       "      <td>0.272276</td>\n",
       "      <td>0.933420</td>\n",
       "      <td>8.878370e-07</td>\n",
       "    </tr>\n",
       "    <tr>\n",
       "      <th>6</th>\n",
       "      <td>539091200022594</td>\n",
       "      <td>[539091200022594, 539091200022594, 53909120002...</td>\n",
       "      <td>287.988869</td>\n",
       "      <td>13.074118</td>\n",
       "      <td>4314064747823772032</td>\n",
       "      <td>NaN</td>\n",
       "      <td>20.916426</td>\n",
       "      <td>68.139877</td>\n",
       "      <td>NaN</td>\n",
       "      <td>NaN</td>\n",
       "      <td>4.706981e-06</td>\n",
       "    </tr>\n",
       "  </tbody>\n",
       "</table>\n",
       "</div>"
      ],
      "text/plain": [
       "           matchid                                  combined_matchids  \\\n",
       "0  539091210021486  [539091210021486, 539091210021486, 53909121002...   \n",
       "1  539091200169560  [539091200169560, 539091200169560, 53909120016...   \n",
       "2  539091200144433  [539091200144433, 539091200144433, 53909120014...   \n",
       "3  539091200095877  [539091200095877, 539091200095877, 53909120009...   \n",
       "4  539091200095931  [539091200095931, 539091200095931, 53909120009...   \n",
       "5  539091200022594  [539091200022594, 539091200022594, 53909120002...   \n",
       "6  539091200022594  [539091200022594, 539091200022594, 53909120002...   \n",
       "\n",
       "           ra        dec            source_id     bp_rp  phot_g_mean_mag  \\\n",
       "0  287.985131  13.076150  4314064752144351104       NaN        21.252653   \n",
       "1  287.985645  13.076053  4314064752141722880  1.962526        20.610218   \n",
       "2  287.985909  13.075576  4314064752144511104       NaN        21.399178   \n",
       "3  287.986180  13.076569  4314064747823789440  1.894012        20.256207   \n",
       "4  287.986855  13.074891  4314064752187515520  2.932623        19.596601   \n",
       "5  287.988869  13.074118  4314064752141447168  2.656782        20.182062   \n",
       "6  287.988869  13.074118  4314064747823772032       NaN        20.916426   \n",
       "\n",
       "   phot_g_mean_flux_over_error  parallax  parallax_error       axsdist  \n",
       "0                    26.392502       NaN             NaN  1.624088e-06  \n",
       "1                   136.230728  1.294866        1.226691  2.097511e-06  \n",
       "2                    32.201534       NaN             NaN  3.141761e-06  \n",
       "3                   192.555542 -0.059701        0.735873  4.163692e-07  \n",
       "4                   291.541779  0.867655        0.563483  3.282545e-07  \n",
       "5                   183.464554  0.272276        0.933420  8.878370e-07  \n",
       "6                    68.139877       NaN             NaN  4.706981e-06  "
      ]
     },
     "execution_count": 66,
     "metadata": {},
     "output_type": "execute_result"
    }
   ],
   "source": [
    "gaia_match"
   ]
  },
  {
   "cell_type": "markdown",
   "metadata": {},
   "source": [
    "Note that rows 5 & 6 have the same ztf matchid, so have matched multiple Gaia sources (indicated by different `source_id`s) within the 1\" crossmatch radius.  Do we just use the closer one (in which case we could just use `return_min=True`), or can we compare brightness?"
   ]
  },
  {
   "cell_type": "code",
   "execution_count": 67,
   "metadata": {},
   "outputs": [
    {
     "data": {
      "text/plain": [
       "0    0.005847\n",
       "1    0.007551\n",
       "2    0.011310\n",
       "3    0.001499\n",
       "4    0.001182\n",
       "5    0.003196\n",
       "6    0.016945\n",
       "Name: axsdist, dtype: float64"
      ]
     },
     "execution_count": 67,
     "metadata": {},
     "output_type": "execute_result"
    }
   ],
   "source": [
    "gaia_match['axsdist']*3600"
   ]
  },
  {
   "cell_type": "code",
   "execution_count": 68,
   "metadata": {},
   "outputs": [
    {
     "ename": "AttributeError",
     "evalue": "(\"'Series' object has no attribute 'mag'\", 'occurred at index 0')",
     "output_type": "error",
     "traceback": [
      "\u001b[0;31m---------------------------------------------------------------------------\u001b[0m",
      "\u001b[0;31mAttributeError\u001b[0m                            Traceback (most recent call last)",
      "\u001b[0;32m<ipython-input-68-37083c54aed6>\u001b[0m in \u001b[0;36m<module>\u001b[0;34m()\u001b[0m\n\u001b[0;32m----> 1\u001b[0;31m \u001b[0mgaia_match\u001b[0m\u001b[0;34m[\u001b[0m\u001b[0;34m'median_ztf_r_mag'\u001b[0m\u001b[0;34m]\u001b[0m \u001b[0;34m=\u001b[0m \u001b[0mgaia_match\u001b[0m\u001b[0;34m.\u001b[0m\u001b[0mapply\u001b[0m\u001b[0;34m(\u001b[0m\u001b[0;32mlambda\u001b[0m \u001b[0mx\u001b[0m\u001b[0;34m:\u001b[0m \u001b[0mnp\u001b[0m\u001b[0;34m.\u001b[0m\u001b[0mmedian\u001b[0m\u001b[0;34m(\u001b[0m\u001b[0mx\u001b[0m\u001b[0;34m.\u001b[0m\u001b[0mmag\u001b[0m\u001b[0;34m[\u001b[0m\u001b[0mx\u001b[0m\u001b[0;34m.\u001b[0m\u001b[0mfilterid\u001b[0m \u001b[0;34m==\u001b[0m \u001b[0;36m2\u001b[0m\u001b[0;34m]\u001b[0m\u001b[0;34m)\u001b[0m\u001b[0;34m,\u001b[0m \u001b[0maxis\u001b[0m\u001b[0;34m=\u001b[0m\u001b[0;36m1\u001b[0m\u001b[0;34m)\u001b[0m\u001b[0;34m\u001b[0m\u001b[0;34m\u001b[0m\u001b[0m\n\u001b[0m",
      "\u001b[0;32m/epyc/opt/anaconda/lib/python3.6/site-packages/pandas/core/frame.py\u001b[0m in \u001b[0;36mapply\u001b[0;34m(self, func, axis, broadcast, raw, reduce, result_type, args, **kwds)\u001b[0m\n\u001b[1;32m   6012\u001b[0m                          \u001b[0margs\u001b[0m\u001b[0;34m=\u001b[0m\u001b[0margs\u001b[0m\u001b[0;34m,\u001b[0m\u001b[0;34m\u001b[0m\u001b[0;34m\u001b[0m\u001b[0m\n\u001b[1;32m   6013\u001b[0m                          kwds=kwds)\n\u001b[0;32m-> 6014\u001b[0;31m         \u001b[0;32mreturn\u001b[0m \u001b[0mop\u001b[0m\u001b[0;34m.\u001b[0m\u001b[0mget_result\u001b[0m\u001b[0;34m(\u001b[0m\u001b[0;34m)\u001b[0m\u001b[0;34m\u001b[0m\u001b[0;34m\u001b[0m\u001b[0m\n\u001b[0m\u001b[1;32m   6015\u001b[0m \u001b[0;34m\u001b[0m\u001b[0m\n\u001b[1;32m   6016\u001b[0m     \u001b[0;32mdef\u001b[0m \u001b[0mapplymap\u001b[0m\u001b[0;34m(\u001b[0m\u001b[0mself\u001b[0m\u001b[0;34m,\u001b[0m \u001b[0mfunc\u001b[0m\u001b[0;34m)\u001b[0m\u001b[0;34m:\u001b[0m\u001b[0;34m\u001b[0m\u001b[0;34m\u001b[0m\u001b[0m\n",
      "\u001b[0;32m/epyc/opt/anaconda/lib/python3.6/site-packages/pandas/core/apply.py\u001b[0m in \u001b[0;36mget_result\u001b[0;34m(self)\u001b[0m\n\u001b[1;32m    140\u001b[0m             \u001b[0;32mreturn\u001b[0m \u001b[0mself\u001b[0m\u001b[0;34m.\u001b[0m\u001b[0mapply_raw\u001b[0m\u001b[0;34m(\u001b[0m\u001b[0;34m)\u001b[0m\u001b[0;34m\u001b[0m\u001b[0;34m\u001b[0m\u001b[0m\n\u001b[1;32m    141\u001b[0m \u001b[0;34m\u001b[0m\u001b[0m\n\u001b[0;32m--> 142\u001b[0;31m         \u001b[0;32mreturn\u001b[0m \u001b[0mself\u001b[0m\u001b[0;34m.\u001b[0m\u001b[0mapply_standard\u001b[0m\u001b[0;34m(\u001b[0m\u001b[0;34m)\u001b[0m\u001b[0;34m\u001b[0m\u001b[0;34m\u001b[0m\u001b[0m\n\u001b[0m\u001b[1;32m    143\u001b[0m \u001b[0;34m\u001b[0m\u001b[0m\n\u001b[1;32m    144\u001b[0m     \u001b[0;32mdef\u001b[0m \u001b[0mapply_empty_result\u001b[0m\u001b[0;34m(\u001b[0m\u001b[0mself\u001b[0m\u001b[0;34m)\u001b[0m\u001b[0;34m:\u001b[0m\u001b[0;34m\u001b[0m\u001b[0;34m\u001b[0m\u001b[0m\n",
      "\u001b[0;32m/epyc/opt/anaconda/lib/python3.6/site-packages/pandas/core/apply.py\u001b[0m in \u001b[0;36mapply_standard\u001b[0;34m(self)\u001b[0m\n\u001b[1;32m    246\u001b[0m \u001b[0;34m\u001b[0m\u001b[0m\n\u001b[1;32m    247\u001b[0m         \u001b[0;31m# compute the result using the series generator\u001b[0m\u001b[0;34m\u001b[0m\u001b[0;34m\u001b[0m\u001b[0;34m\u001b[0m\u001b[0m\n\u001b[0;32m--> 248\u001b[0;31m         \u001b[0mself\u001b[0m\u001b[0;34m.\u001b[0m\u001b[0mapply_series_generator\u001b[0m\u001b[0;34m(\u001b[0m\u001b[0;34m)\u001b[0m\u001b[0;34m\u001b[0m\u001b[0;34m\u001b[0m\u001b[0m\n\u001b[0m\u001b[1;32m    249\u001b[0m \u001b[0;34m\u001b[0m\u001b[0m\n\u001b[1;32m    250\u001b[0m         \u001b[0;31m# wrap results\u001b[0m\u001b[0;34m\u001b[0m\u001b[0;34m\u001b[0m\u001b[0;34m\u001b[0m\u001b[0m\n",
      "\u001b[0;32m/epyc/opt/anaconda/lib/python3.6/site-packages/pandas/core/apply.py\u001b[0m in \u001b[0;36mapply_series_generator\u001b[0;34m(self)\u001b[0m\n\u001b[1;32m    275\u001b[0m             \u001b[0;32mtry\u001b[0m\u001b[0;34m:\u001b[0m\u001b[0;34m\u001b[0m\u001b[0;34m\u001b[0m\u001b[0m\n\u001b[1;32m    276\u001b[0m                 \u001b[0;32mfor\u001b[0m \u001b[0mi\u001b[0m\u001b[0;34m,\u001b[0m \u001b[0mv\u001b[0m \u001b[0;32min\u001b[0m \u001b[0menumerate\u001b[0m\u001b[0;34m(\u001b[0m\u001b[0mseries_gen\u001b[0m\u001b[0;34m)\u001b[0m\u001b[0;34m:\u001b[0m\u001b[0;34m\u001b[0m\u001b[0;34m\u001b[0m\u001b[0m\n\u001b[0;32m--> 277\u001b[0;31m                     \u001b[0mresults\u001b[0m\u001b[0;34m[\u001b[0m\u001b[0mi\u001b[0m\u001b[0;34m]\u001b[0m \u001b[0;34m=\u001b[0m \u001b[0mself\u001b[0m\u001b[0;34m.\u001b[0m\u001b[0mf\u001b[0m\u001b[0;34m(\u001b[0m\u001b[0mv\u001b[0m\u001b[0;34m)\u001b[0m\u001b[0;34m\u001b[0m\u001b[0;34m\u001b[0m\u001b[0m\n\u001b[0m\u001b[1;32m    278\u001b[0m                     \u001b[0mkeys\u001b[0m\u001b[0;34m.\u001b[0m\u001b[0mappend\u001b[0m\u001b[0;34m(\u001b[0m\u001b[0mv\u001b[0m\u001b[0;34m.\u001b[0m\u001b[0mname\u001b[0m\u001b[0;34m)\u001b[0m\u001b[0;34m\u001b[0m\u001b[0;34m\u001b[0m\u001b[0m\n\u001b[1;32m    279\u001b[0m             \u001b[0;32mexcept\u001b[0m \u001b[0mException\u001b[0m \u001b[0;32mas\u001b[0m \u001b[0me\u001b[0m\u001b[0;34m:\u001b[0m\u001b[0;34m\u001b[0m\u001b[0;34m\u001b[0m\u001b[0m\n",
      "\u001b[0;32m<ipython-input-68-37083c54aed6>\u001b[0m in \u001b[0;36m<lambda>\u001b[0;34m(x)\u001b[0m\n\u001b[0;32m----> 1\u001b[0;31m \u001b[0mgaia_match\u001b[0m\u001b[0;34m[\u001b[0m\u001b[0;34m'median_ztf_r_mag'\u001b[0m\u001b[0;34m]\u001b[0m \u001b[0;34m=\u001b[0m \u001b[0mgaia_match\u001b[0m\u001b[0;34m.\u001b[0m\u001b[0mapply\u001b[0m\u001b[0;34m(\u001b[0m\u001b[0;32mlambda\u001b[0m \u001b[0mx\u001b[0m\u001b[0;34m:\u001b[0m \u001b[0mnp\u001b[0m\u001b[0;34m.\u001b[0m\u001b[0mmedian\u001b[0m\u001b[0;34m(\u001b[0m\u001b[0mx\u001b[0m\u001b[0;34m.\u001b[0m\u001b[0mmag\u001b[0m\u001b[0;34m[\u001b[0m\u001b[0mx\u001b[0m\u001b[0;34m.\u001b[0m\u001b[0mfilterid\u001b[0m \u001b[0;34m==\u001b[0m \u001b[0;36m2\u001b[0m\u001b[0;34m]\u001b[0m\u001b[0;34m)\u001b[0m\u001b[0;34m,\u001b[0m \u001b[0maxis\u001b[0m\u001b[0;34m=\u001b[0m\u001b[0;36m1\u001b[0m\u001b[0;34m)\u001b[0m\u001b[0;34m\u001b[0m\u001b[0;34m\u001b[0m\u001b[0m\n\u001b[0m",
      "\u001b[0;32m/epyc/opt/anaconda/lib/python3.6/site-packages/pandas/core/generic.py\u001b[0m in \u001b[0;36m__getattr__\u001b[0;34m(self, name)\u001b[0m\n\u001b[1;32m   4370\u001b[0m             \u001b[0;32mif\u001b[0m \u001b[0mself\u001b[0m\u001b[0;34m.\u001b[0m\u001b[0m_info_axis\u001b[0m\u001b[0;34m.\u001b[0m\u001b[0m_can_hold_identifiers_and_holds_name\u001b[0m\u001b[0;34m(\u001b[0m\u001b[0mname\u001b[0m\u001b[0;34m)\u001b[0m\u001b[0;34m:\u001b[0m\u001b[0;34m\u001b[0m\u001b[0;34m\u001b[0m\u001b[0m\n\u001b[1;32m   4371\u001b[0m                 \u001b[0;32mreturn\u001b[0m \u001b[0mself\u001b[0m\u001b[0;34m[\u001b[0m\u001b[0mname\u001b[0m\u001b[0;34m]\u001b[0m\u001b[0;34m\u001b[0m\u001b[0;34m\u001b[0m\u001b[0m\n\u001b[0;32m-> 4372\u001b[0;31m             \u001b[0;32mreturn\u001b[0m \u001b[0mobject\u001b[0m\u001b[0;34m.\u001b[0m\u001b[0m__getattribute__\u001b[0m\u001b[0;34m(\u001b[0m\u001b[0mself\u001b[0m\u001b[0;34m,\u001b[0m \u001b[0mname\u001b[0m\u001b[0;34m)\u001b[0m\u001b[0;34m\u001b[0m\u001b[0;34m\u001b[0m\u001b[0m\n\u001b[0m\u001b[1;32m   4373\u001b[0m \u001b[0;34m\u001b[0m\u001b[0m\n\u001b[1;32m   4374\u001b[0m     \u001b[0;32mdef\u001b[0m \u001b[0m__setattr__\u001b[0m\u001b[0;34m(\u001b[0m\u001b[0mself\u001b[0m\u001b[0;34m,\u001b[0m \u001b[0mname\u001b[0m\u001b[0;34m,\u001b[0m \u001b[0mvalue\u001b[0m\u001b[0;34m)\u001b[0m\u001b[0;34m:\u001b[0m\u001b[0;34m\u001b[0m\u001b[0;34m\u001b[0m\u001b[0m\n",
      "\u001b[0;31mAttributeError\u001b[0m: (\"'Series' object has no attribute 'mag'\", 'occurred at index 0')"
     ]
    }
   ],
   "source": [
    "gaia_match['median_ztf_r_mag'] = gaia_match.apply(lambda x: np.median(x.mag[x.filterid == 2]), axis=1)"
   ]
  },
  {
   "cell_type": "code",
   "execution_count": 24,
   "metadata": {},
   "outputs": [
    {
     "data": {
      "text/plain": [
       "0    20.875589\n",
       "1    20.703602\n",
       "2    21.043415\n",
       "3    20.641129\n",
       "4    20.290142\n",
       "5    20.225367\n",
       "6    20.225367\n",
       "Name: median_ztf_r_mag, dtype: float64"
      ]
     },
     "execution_count": 24,
     "metadata": {},
     "output_type": "execute_result"
    }
   ],
   "source": [
    "gaia_match['median_ztf_r_mag']"
   ]
  },
  {
   "cell_type": "code",
   "execution_count": 25,
   "metadata": {},
   "outputs": [
    {
     "data": {
      "text/plain": [
       "0    21.252653\n",
       "1    20.610218\n",
       "2    21.399178\n",
       "3    20.256207\n",
       "4    19.596601\n",
       "5    20.182062\n",
       "6    20.916426\n",
       "Name: phot_g_mean_mag, dtype: float32"
      ]
     },
     "execution_count": 25,
     "metadata": {},
     "output_type": "execute_result"
    }
   ],
   "source": [
    "gaia_match['phot_g_mean_mag']"
   ]
  },
  {
   "cell_type": "markdown",
   "metadata": {},
   "source": [
    "So we should decide how to downselect to a single Gaia source per AXS ZTF source, using position and/or magnitude..."
   ]
  },
  {
   "cell_type": "markdown",
   "metadata": {},
   "source": [
    "We'd also like to break out the matchids from individual matchfiles so we can "
   ]
  },
  {
   "cell_type": "code",
   "execution_count": 69,
   "metadata": {},
   "outputs": [
    {
     "data": {
      "text/plain": [
       "0    [539091210021486, 539091210021486, 53909121002...\n",
       "1    [539091200169560, 539091200169560, 53909120016...\n",
       "2    [539091200144433, 539091200144433, 53909120014...\n",
       "3    [539091200095877, 539091200095877, 53909120009...\n",
       "4    [539091200095931, 539091200095931, 53909120009...\n",
       "5    [539091200022594, 539091200022594, 53909120002...\n",
       "6    [539091200022594, 539091200022594, 53909120002...\n",
       "Name: combined_matchids, dtype: object"
      ]
     },
     "execution_count": 69,
     "metadata": {},
     "output_type": "execute_result"
    }
   ],
   "source": [
    "gaia_match.combined_matchids"
   ]
  },
  {
   "cell_type": "code",
   "execution_count": 70,
   "metadata": {},
   "outputs": [],
   "source": [
    "gaia_match['unique_matchids'] = gaia_match['combined_matchids'].apply(lambda x: list(set(x)))"
   ]
  },
  {
   "cell_type": "code",
   "execution_count": 72,
   "metadata": {},
   "outputs": [
    {
     "data": {
      "text/html": [
       "<div>\n",
       "<style scoped>\n",
       "    .dataframe tbody tr th:only-of-type {\n",
       "        vertical-align: middle;\n",
       "    }\n",
       "\n",
       "    .dataframe tbody tr th {\n",
       "        vertical-align: top;\n",
       "    }\n",
       "\n",
       "    .dataframe thead th {\n",
       "        text-align: right;\n",
       "    }\n",
       "</style>\n",
       "<table border=\"1\" class=\"dataframe\">\n",
       "  <thead>\n",
       "    <tr style=\"text-align: right;\">\n",
       "      <th></th>\n",
       "      <th>matchid</th>\n",
       "      <th>combined_matchids</th>\n",
       "      <th>ra</th>\n",
       "      <th>dec</th>\n",
       "      <th>source_id</th>\n",
       "      <th>bp_rp</th>\n",
       "      <th>phot_g_mean_mag</th>\n",
       "      <th>phot_g_mean_flux_over_error</th>\n",
       "      <th>parallax</th>\n",
       "      <th>parallax_error</th>\n",
       "      <th>axsdist</th>\n",
       "      <th>unique_matchids</th>\n",
       "    </tr>\n",
       "  </thead>\n",
       "  <tbody>\n",
       "    <tr>\n",
       "      <th>0</th>\n",
       "      <td>539091210021486</td>\n",
       "      <td>[539091210021486, 539091210021486, 53909121002...</td>\n",
       "      <td>287.985131</td>\n",
       "      <td>13.076150</td>\n",
       "      <td>4314064752144351104</td>\n",
       "      <td>NaN</td>\n",
       "      <td>21.252653</td>\n",
       "      <td>26.392502</td>\n",
       "      <td>NaN</td>\n",
       "      <td>NaN</td>\n",
       "      <td>1.624088e-06</td>\n",
       "      <td>[539091210021486]</td>\n",
       "    </tr>\n",
       "    <tr>\n",
       "      <th>1</th>\n",
       "      <td>539091200169560</td>\n",
       "      <td>[539091200169560, 539091200169560, 53909120016...</td>\n",
       "      <td>287.985645</td>\n",
       "      <td>13.076053</td>\n",
       "      <td>4314064752141722880</td>\n",
       "      <td>1.962526</td>\n",
       "      <td>20.610218</td>\n",
       "      <td>136.230728</td>\n",
       "      <td>1.294866</td>\n",
       "      <td>1.226691</td>\n",
       "      <td>2.097511e-06</td>\n",
       "      <td>[539091200169560]</td>\n",
       "    </tr>\n",
       "    <tr>\n",
       "      <th>2</th>\n",
       "      <td>539091200144433</td>\n",
       "      <td>[539091200144433, 539091200144433, 53909120014...</td>\n",
       "      <td>287.985909</td>\n",
       "      <td>13.075576</td>\n",
       "      <td>4314064752144511104</td>\n",
       "      <td>NaN</td>\n",
       "      <td>21.399178</td>\n",
       "      <td>32.201534</td>\n",
       "      <td>NaN</td>\n",
       "      <td>NaN</td>\n",
       "      <td>3.141761e-06</td>\n",
       "      <td>[539091200144433]</td>\n",
       "    </tr>\n",
       "    <tr>\n",
       "      <th>3</th>\n",
       "      <td>539091200095877</td>\n",
       "      <td>[539091200095877, 539091200095877, 53909120009...</td>\n",
       "      <td>287.986180</td>\n",
       "      <td>13.076569</td>\n",
       "      <td>4314064747823789440</td>\n",
       "      <td>1.894012</td>\n",
       "      <td>20.256207</td>\n",
       "      <td>192.555542</td>\n",
       "      <td>-0.059701</td>\n",
       "      <td>0.735873</td>\n",
       "      <td>4.163692e-07</td>\n",
       "      <td>[539091200095877]</td>\n",
       "    </tr>\n",
       "    <tr>\n",
       "      <th>4</th>\n",
       "      <td>539091200095931</td>\n",
       "      <td>[539091200095931, 539091200095931, 53909120009...</td>\n",
       "      <td>287.986855</td>\n",
       "      <td>13.074891</td>\n",
       "      <td>4314064752187515520</td>\n",
       "      <td>2.932623</td>\n",
       "      <td>19.596601</td>\n",
       "      <td>291.541779</td>\n",
       "      <td>0.867655</td>\n",
       "      <td>0.563483</td>\n",
       "      <td>3.282545e-07</td>\n",
       "      <td>[539091200095931]</td>\n",
       "    </tr>\n",
       "    <tr>\n",
       "      <th>5</th>\n",
       "      <td>539091200022594</td>\n",
       "      <td>[539091200022594, 539091200022594, 53909120002...</td>\n",
       "      <td>287.988869</td>\n",
       "      <td>13.074118</td>\n",
       "      <td>4314064752141447168</td>\n",
       "      <td>2.656782</td>\n",
       "      <td>20.182062</td>\n",
       "      <td>183.464554</td>\n",
       "      <td>0.272276</td>\n",
       "      <td>0.933420</td>\n",
       "      <td>8.878370e-07</td>\n",
       "      <td>[539091200022594]</td>\n",
       "    </tr>\n",
       "    <tr>\n",
       "      <th>6</th>\n",
       "      <td>539091200022594</td>\n",
       "      <td>[539091200022594, 539091200022594, 53909120002...</td>\n",
       "      <td>287.988869</td>\n",
       "      <td>13.074118</td>\n",
       "      <td>4314064747823772032</td>\n",
       "      <td>NaN</td>\n",
       "      <td>20.916426</td>\n",
       "      <td>68.139877</td>\n",
       "      <td>NaN</td>\n",
       "      <td>NaN</td>\n",
       "      <td>4.706981e-06</td>\n",
       "      <td>[539091200022594]</td>\n",
       "    </tr>\n",
       "  </tbody>\n",
       "</table>\n",
       "</div>"
      ],
      "text/plain": [
       "           matchid                                  combined_matchids  \\\n",
       "0  539091210021486  [539091210021486, 539091210021486, 53909121002...   \n",
       "1  539091200169560  [539091200169560, 539091200169560, 53909120016...   \n",
       "2  539091200144433  [539091200144433, 539091200144433, 53909120014...   \n",
       "3  539091200095877  [539091200095877, 539091200095877, 53909120009...   \n",
       "4  539091200095931  [539091200095931, 539091200095931, 53909120009...   \n",
       "5  539091200022594  [539091200022594, 539091200022594, 53909120002...   \n",
       "6  539091200022594  [539091200022594, 539091200022594, 53909120002...   \n",
       "\n",
       "           ra        dec            source_id     bp_rp  phot_g_mean_mag  \\\n",
       "0  287.985131  13.076150  4314064752144351104       NaN        21.252653   \n",
       "1  287.985645  13.076053  4314064752141722880  1.962526        20.610218   \n",
       "2  287.985909  13.075576  4314064752144511104       NaN        21.399178   \n",
       "3  287.986180  13.076569  4314064747823789440  1.894012        20.256207   \n",
       "4  287.986855  13.074891  4314064752187515520  2.932623        19.596601   \n",
       "5  287.988869  13.074118  4314064752141447168  2.656782        20.182062   \n",
       "6  287.988869  13.074118  4314064747823772032       NaN        20.916426   \n",
       "\n",
       "   phot_g_mean_flux_over_error  parallax  parallax_error       axsdist  \\\n",
       "0                    26.392502       NaN             NaN  1.624088e-06   \n",
       "1                   136.230728  1.294866        1.226691  2.097511e-06   \n",
       "2                    32.201534       NaN             NaN  3.141761e-06   \n",
       "3                   192.555542 -0.059701        0.735873  4.163692e-07   \n",
       "4                   291.541779  0.867655        0.563483  3.282545e-07   \n",
       "5                   183.464554  0.272276        0.933420  8.878370e-07   \n",
       "6                    68.139877       NaN             NaN  4.706981e-06   \n",
       "\n",
       "     unique_matchids  \n",
       "0  [539091210021486]  \n",
       "1  [539091200169560]  \n",
       "2  [539091200144433]  \n",
       "3  [539091200095877]  \n",
       "4  [539091200095931]  \n",
       "5  [539091200022594]  \n",
       "6  [539091200022594]  "
      ]
     },
     "execution_count": 72,
     "metadata": {},
     "output_type": "execute_result"
    }
   ],
   "source": [
    "gaia_match"
   ]
  },
  {
   "cell_type": "code",
   "execution_count": 73,
   "metadata": {},
   "outputs": [],
   "source": [
    "gaia_match = gaia_match.drop('combined_matchids',axis=1)"
   ]
  },
  {
   "cell_type": "code",
   "execution_count": 74,
   "metadata": {},
   "outputs": [
    {
     "data": {
      "text/plain": [
       "Index(['matchid', 'ra', 'dec', 'source_id', 'bp_rp', 'phot_g_mean_mag',\n",
       "       'phot_g_mean_flux_over_error', 'parallax', 'parallax_error', 'axsdist',\n",
       "       'unique_matchids'],\n",
       "      dtype='object')"
      ]
     },
     "execution_count": 74,
     "metadata": {},
     "output_type": "execute_result"
    }
   ],
   "source": [
    "gaia_match.columns"
   ]
  },
  {
   "cell_type": "code",
   "execution_count": 11,
   "metadata": {},
   "outputs": [],
   "source": [
    "#https://stackoverflow.com/questions/27263805/pandas-when-cell-contents-are-lists-create-a-row-for-each-element-in-the-list\n",
    "def explode_list_in_row(df):\n",
    "    column_to_explode = 'unique_matchids'\n",
    "    other_cols = [x for x in df.columns if x != column_to_explode]\n",
    "    res = (df\n",
    "       .set_index(other_cols)[column_to_explode]\n",
    "       .apply(pd.Series)\n",
    "       .stack()\n",
    "       .reset_index())\n",
    "    res = res.rename(columns={\n",
    "          res.columns[-2]:'exploded_{}_index'.format(column_to_explode),\n",
    "          res.columns[-1]: '{}_exploded'.format(column_to_explode)})\n",
    "    return res"
   ]
  },
  {
   "cell_type": "markdown",
   "metadata": {},
   "source": [
    "Note `explode_list_in_row` won't work if other columns (e.g., mag, filterid) are also lists"
   ]
  },
  {
   "cell_type": "code",
   "execution_count": 77,
   "metadata": {},
   "outputs": [
    {
     "data": {
      "text/html": [
       "<div>\n",
       "<style scoped>\n",
       "    .dataframe tbody tr th:only-of-type {\n",
       "        vertical-align: middle;\n",
       "    }\n",
       "\n",
       "    .dataframe tbody tr th {\n",
       "        vertical-align: top;\n",
       "    }\n",
       "\n",
       "    .dataframe thead th {\n",
       "        text-align: right;\n",
       "    }\n",
       "</style>\n",
       "<table border=\"1\" class=\"dataframe\">\n",
       "  <thead>\n",
       "    <tr style=\"text-align: right;\">\n",
       "      <th></th>\n",
       "      <th>matchid</th>\n",
       "      <th>source_id</th>\n",
       "      <th>ra</th>\n",
       "      <th>dec</th>\n",
       "      <th>bp_rp</th>\n",
       "      <th>phot_g_mean_mag</th>\n",
       "      <th>phot_g_mean_flux_over_error</th>\n",
       "      <th>parallax</th>\n",
       "      <th>parallax_error</th>\n",
       "      <th>exploded_unique_matchids_index</th>\n",
       "      <th>unique_matchids_exploded</th>\n",
       "    </tr>\n",
       "  </thead>\n",
       "  <tbody>\n",
       "    <tr>\n",
       "      <th>0</th>\n",
       "      <td>539091210021486</td>\n",
       "      <td>4314064752144351104</td>\n",
       "      <td>287.985131</td>\n",
       "      <td>13.076150</td>\n",
       "      <td>NaN</td>\n",
       "      <td>21.252653</td>\n",
       "      <td>26.392502</td>\n",
       "      <td>NaN</td>\n",
       "      <td>NaN</td>\n",
       "      <td>0</td>\n",
       "      <td>539091210021486</td>\n",
       "    </tr>\n",
       "    <tr>\n",
       "      <th>1</th>\n",
       "      <td>539091200169560</td>\n",
       "      <td>4314064752141722880</td>\n",
       "      <td>287.985645</td>\n",
       "      <td>13.076053</td>\n",
       "      <td>1.962526</td>\n",
       "      <td>20.610218</td>\n",
       "      <td>136.230728</td>\n",
       "      <td>1.294866</td>\n",
       "      <td>1.226691</td>\n",
       "      <td>0</td>\n",
       "      <td>539091200169560</td>\n",
       "    </tr>\n",
       "    <tr>\n",
       "      <th>2</th>\n",
       "      <td>539091200144433</td>\n",
       "      <td>4314064752144511104</td>\n",
       "      <td>287.985909</td>\n",
       "      <td>13.075576</td>\n",
       "      <td>NaN</td>\n",
       "      <td>21.399178</td>\n",
       "      <td>32.201534</td>\n",
       "      <td>NaN</td>\n",
       "      <td>NaN</td>\n",
       "      <td>0</td>\n",
       "      <td>539091200144433</td>\n",
       "    </tr>\n",
       "    <tr>\n",
       "      <th>3</th>\n",
       "      <td>539091200095877</td>\n",
       "      <td>4314064747823789440</td>\n",
       "      <td>287.986180</td>\n",
       "      <td>13.076569</td>\n",
       "      <td>1.894012</td>\n",
       "      <td>20.256207</td>\n",
       "      <td>192.555542</td>\n",
       "      <td>-0.059701</td>\n",
       "      <td>0.735873</td>\n",
       "      <td>0</td>\n",
       "      <td>539091200095877</td>\n",
       "    </tr>\n",
       "    <tr>\n",
       "      <th>4</th>\n",
       "      <td>539091200095931</td>\n",
       "      <td>4314064752187515520</td>\n",
       "      <td>287.986855</td>\n",
       "      <td>13.074891</td>\n",
       "      <td>2.932623</td>\n",
       "      <td>19.596601</td>\n",
       "      <td>291.541779</td>\n",
       "      <td>0.867655</td>\n",
       "      <td>0.563483</td>\n",
       "      <td>0</td>\n",
       "      <td>539091200095931</td>\n",
       "    </tr>\n",
       "    <tr>\n",
       "      <th>5</th>\n",
       "      <td>539091200022594</td>\n",
       "      <td>4314064752141447168</td>\n",
       "      <td>287.988869</td>\n",
       "      <td>13.074118</td>\n",
       "      <td>2.656782</td>\n",
       "      <td>20.182062</td>\n",
       "      <td>183.464554</td>\n",
       "      <td>0.272276</td>\n",
       "      <td>0.933420</td>\n",
       "      <td>0</td>\n",
       "      <td>539091200022594</td>\n",
       "    </tr>\n",
       "    <tr>\n",
       "      <th>6</th>\n",
       "      <td>539091200022594</td>\n",
       "      <td>4314064747823772032</td>\n",
       "      <td>287.988869</td>\n",
       "      <td>13.074118</td>\n",
       "      <td>NaN</td>\n",
       "      <td>20.916426</td>\n",
       "      <td>68.139877</td>\n",
       "      <td>NaN</td>\n",
       "      <td>NaN</td>\n",
       "      <td>0</td>\n",
       "      <td>539091200022594</td>\n",
       "    </tr>\n",
       "  </tbody>\n",
       "</table>\n",
       "</div>"
      ],
      "text/plain": [
       "           matchid            source_id          ra        dec     bp_rp  \\\n",
       "0  539091210021486  4314064752144351104  287.985131  13.076150       NaN   \n",
       "1  539091200169560  4314064752141722880  287.985645  13.076053  1.962526   \n",
       "2  539091200144433  4314064752144511104  287.985909  13.075576       NaN   \n",
       "3  539091200095877  4314064747823789440  287.986180  13.076569  1.894012   \n",
       "4  539091200095931  4314064752187515520  287.986855  13.074891  2.932623   \n",
       "5  539091200022594  4314064752141447168  287.988869  13.074118  2.656782   \n",
       "6  539091200022594  4314064747823772032  287.988869  13.074118       NaN   \n",
       "\n",
       "   phot_g_mean_mag  phot_g_mean_flux_over_error  parallax  parallax_error  \\\n",
       "0        21.252653                    26.392502       NaN             NaN   \n",
       "1        20.610218                   136.230728  1.294866        1.226691   \n",
       "2        21.399178                    32.201534       NaN             NaN   \n",
       "3        20.256207                   192.555542 -0.059701        0.735873   \n",
       "4        19.596601                   291.541779  0.867655        0.563483   \n",
       "5        20.182062                   183.464554  0.272276        0.933420   \n",
       "6        20.916426                    68.139877       NaN             NaN   \n",
       "\n",
       "   exploded_unique_matchids_index  unique_matchids_exploded  \n",
       "0                               0           539091210021486  \n",
       "1                               0           539091200169560  \n",
       "2                               0           539091200144433  \n",
       "3                               0           539091200095877  \n",
       "4                               0           539091200095931  \n",
       "5                               0           539091200022594  \n",
       "6                               0           539091200022594  "
      ]
     },
     "execution_count": 77,
     "metadata": {},
     "output_type": "execute_result"
    }
   ],
   "source": [
    "explode_list_in_row(gaia_match[['matchid','source_id','ra', 'dec',  'bp_rp',\n",
    "       'phot_g_mean_mag', 'phot_g_mean_flux_over_error', 'parallax',\n",
    "       'parallax_error',  'unique_matchids']])"
   ]
  },
  {
   "cell_type": "code",
   "execution_count": 12,
   "metadata": {},
   "outputs": [],
   "source": [
    "high_cadence_fields = [538, 539, 436, 437, 638, 639, 488, 489, 540, 541, 591,  592, 685, 686]"
   ]
  },
  {
   "cell_type": "code",
   "execution_count": 13,
   "metadata": {},
   "outputs": [],
   "source": [
    "df_field_corners = pd.read_csv('/epyc/users/ecbellm/ztf_information/field_grid/ztf_field_corners.csv',index_col='field')"
   ]
  },
  {
   "cell_type": "code",
   "execution_count": 14,
   "metadata": {},
   "outputs": [
    {
     "data": {
      "text/html": [
       "<div>\n",
       "<style scoped>\n",
       "    .dataframe tbody tr th:only-of-type {\n",
       "        vertical-align: middle;\n",
       "    }\n",
       "\n",
       "    .dataframe tbody tr th {\n",
       "        vertical-align: top;\n",
       "    }\n",
       "\n",
       "    .dataframe thead th {\n",
       "        text-align: right;\n",
       "    }\n",
       "</style>\n",
       "<table border=\"1\" class=\"dataframe\">\n",
       "  <thead>\n",
       "    <tr style=\"text-align: right;\">\n",
       "      <th></th>\n",
       "      <th>ra1</th>\n",
       "      <th>dec1</th>\n",
       "      <th>ra2</th>\n",
       "      <th>dec2</th>\n",
       "      <th>ra3</th>\n",
       "      <th>dec3</th>\n",
       "      <th>ra4</th>\n",
       "      <th>dec4</th>\n",
       "    </tr>\n",
       "    <tr>\n",
       "      <th>field</th>\n",
       "      <th></th>\n",
       "      <th></th>\n",
       "      <th></th>\n",
       "      <th></th>\n",
       "      <th></th>\n",
       "      <th></th>\n",
       "      <th></th>\n",
       "      <th></th>\n",
       "    </tr>\n",
       "  </thead>\n",
       "  <tbody>\n",
       "    <tr>\n",
       "      <th>538</th>\n",
       "      <td>281.710718</td>\n",
       "      <td>15.503930</td>\n",
       "      <td>281.616071</td>\n",
       "      <td>7.951467</td>\n",
       "      <td>274.174923</td>\n",
       "      <td>7.937529</td>\n",
       "      <td>274.057181</td>\n",
       "      <td>15.488780</td>\n",
       "    </tr>\n",
       "    <tr>\n",
       "      <th>539</th>\n",
       "      <td>288.685828</td>\n",
       "      <td>15.503930</td>\n",
       "      <td>288.591181</td>\n",
       "      <td>7.951467</td>\n",
       "      <td>281.150033</td>\n",
       "      <td>7.937529</td>\n",
       "      <td>281.032291</td>\n",
       "      <td>15.488780</td>\n",
       "    </tr>\n",
       "    <tr>\n",
       "      <th>436</th>\n",
       "      <td>288.060719</td>\n",
       "      <td>1.134272</td>\n",
       "      <td>288.091636</td>\n",
       "      <td>-6.418696</td>\n",
       "      <td>280.675351</td>\n",
       "      <td>-6.432445</td>\n",
       "      <td>280.684370</td>\n",
       "      <td>1.119680</td>\n",
       "    </tr>\n",
       "    <tr>\n",
       "      <th>437</th>\n",
       "      <td>295.089569</td>\n",
       "      <td>1.134272</td>\n",
       "      <td>295.120486</td>\n",
       "      <td>-6.418696</td>\n",
       "      <td>287.704201</td>\n",
       "      <td>-6.432445</td>\n",
       "      <td>287.713220</td>\n",
       "      <td>1.119680</td>\n",
       "    </tr>\n",
       "    <tr>\n",
       "      <th>638</th>\n",
       "      <td>290.005227</td>\n",
       "      <td>29.868941</td>\n",
       "      <td>289.748815</td>\n",
       "      <td>22.319413</td>\n",
       "      <td>281.781821</td>\n",
       "      <td>22.305275</td>\n",
       "      <td>281.499349</td>\n",
       "      <td>29.853153</td>\n",
       "    </tr>\n",
       "    <tr>\n",
       "      <th>639</th>\n",
       "      <td>297.486937</td>\n",
       "      <td>29.868941</td>\n",
       "      <td>297.230525</td>\n",
       "      <td>22.319413</td>\n",
       "      <td>289.263531</td>\n",
       "      <td>22.305275</td>\n",
       "      <td>288.981059</td>\n",
       "      <td>29.853153</td>\n",
       "    </tr>\n",
       "    <tr>\n",
       "      <th>488</th>\n",
       "      <td>291.829110</td>\n",
       "      <td>8.319381</td>\n",
       "      <td>291.798747</td>\n",
       "      <td>0.766411</td>\n",
       "      <td>284.428466</td>\n",
       "      <td>0.752567</td>\n",
       "      <td>284.375789</td>\n",
       "      <td>8.304515</td>\n",
       "    </tr>\n",
       "    <tr>\n",
       "      <th>489</th>\n",
       "      <td>298.839990</td>\n",
       "      <td>8.319381</td>\n",
       "      <td>298.809627</td>\n",
       "      <td>0.766411</td>\n",
       "      <td>291.439346</td>\n",
       "      <td>0.752567</td>\n",
       "      <td>291.386669</td>\n",
       "      <td>8.304515</td>\n",
       "    </tr>\n",
       "    <tr>\n",
       "      <th>540</th>\n",
       "      <td>295.740508</td>\n",
       "      <td>15.503930</td>\n",
       "      <td>295.645861</td>\n",
       "      <td>7.951467</td>\n",
       "      <td>288.204713</td>\n",
       "      <td>7.937529</td>\n",
       "      <td>288.086971</td>\n",
       "      <td>15.488780</td>\n",
       "    </tr>\n",
       "    <tr>\n",
       "      <th>541</th>\n",
       "      <td>302.724758</td>\n",
       "      <td>15.503930</td>\n",
       "      <td>302.630111</td>\n",
       "      <td>7.951467</td>\n",
       "      <td>295.188963</td>\n",
       "      <td>7.937529</td>\n",
       "      <td>295.071221</td>\n",
       "      <td>15.488780</td>\n",
       "    </tr>\n",
       "    <tr>\n",
       "      <th>591</th>\n",
       "      <td>300.105802</td>\n",
       "      <td>22.687358</td>\n",
       "      <td>299.938294</td>\n",
       "      <td>15.135987</td>\n",
       "      <td>292.303680</td>\n",
       "      <td>15.121952</td>\n",
       "      <td>292.111864</td>\n",
       "      <td>22.671905</td>\n",
       "    </tr>\n",
       "    <tr>\n",
       "      <th>592</th>\n",
       "      <td>307.355622</td>\n",
       "      <td>22.687358</td>\n",
       "      <td>307.188114</td>\n",
       "      <td>15.135987</td>\n",
       "      <td>299.553500</td>\n",
       "      <td>15.121952</td>\n",
       "      <td>299.361684</td>\n",
       "      <td>22.671905</td>\n",
       "    </tr>\n",
       "    <tr>\n",
       "      <th>685</th>\n",
       "      <td>295.016813</td>\n",
       "      <td>37.047646</td>\n",
       "      <td>294.644026</td>\n",
       "      <td>29.501028</td>\n",
       "      <td>286.175285</td>\n",
       "      <td>29.486778</td>\n",
       "      <td>285.773966</td>\n",
       "      <td>37.031473</td>\n",
       "    </tr>\n",
       "    <tr>\n",
       "      <th>686</th>\n",
       "      <td>302.870103</td>\n",
       "      <td>37.047646</td>\n",
       "      <td>302.497316</td>\n",
       "      <td>29.501028</td>\n",
       "      <td>294.028575</td>\n",
       "      <td>29.486778</td>\n",
       "      <td>293.627256</td>\n",
       "      <td>37.031473</td>\n",
       "    </tr>\n",
       "  </tbody>\n",
       "</table>\n",
       "</div>"
      ],
      "text/plain": [
       "              ra1       dec1         ra2       dec2         ra3       dec3  \\\n",
       "field                                                                        \n",
       "538    281.710718  15.503930  281.616071   7.951467  274.174923   7.937529   \n",
       "539    288.685828  15.503930  288.591181   7.951467  281.150033   7.937529   \n",
       "436    288.060719   1.134272  288.091636  -6.418696  280.675351  -6.432445   \n",
       "437    295.089569   1.134272  295.120486  -6.418696  287.704201  -6.432445   \n",
       "638    290.005227  29.868941  289.748815  22.319413  281.781821  22.305275   \n",
       "639    297.486937  29.868941  297.230525  22.319413  289.263531  22.305275   \n",
       "488    291.829110   8.319381  291.798747   0.766411  284.428466   0.752567   \n",
       "489    298.839990   8.319381  298.809627   0.766411  291.439346   0.752567   \n",
       "540    295.740508  15.503930  295.645861   7.951467  288.204713   7.937529   \n",
       "541    302.724758  15.503930  302.630111   7.951467  295.188963   7.937529   \n",
       "591    300.105802  22.687358  299.938294  15.135987  292.303680  15.121952   \n",
       "592    307.355622  22.687358  307.188114  15.135987  299.553500  15.121952   \n",
       "685    295.016813  37.047646  294.644026  29.501028  286.175285  29.486778   \n",
       "686    302.870103  37.047646  302.497316  29.501028  294.028575  29.486778   \n",
       "\n",
       "              ra4       dec4  \n",
       "field                         \n",
       "538    274.057181  15.488780  \n",
       "539    281.032291  15.488780  \n",
       "436    280.684370   1.119680  \n",
       "437    287.713220   1.119680  \n",
       "638    281.499349  29.853153  \n",
       "639    288.981059  29.853153  \n",
       "488    284.375789   8.304515  \n",
       "489    291.386669   8.304515  \n",
       "540    288.086971  15.488780  \n",
       "541    295.071221  15.488780  \n",
       "591    292.111864  22.671905  \n",
       "592    299.361684  22.671905  \n",
       "685    285.773966  37.031473  \n",
       "686    293.627256  37.031473  "
      ]
     },
     "execution_count": 14,
     "metadata": {},
     "output_type": "execute_result"
    }
   ],
   "source": [
    "df_field_corners.loc[high_cadence_fields]"
   ]
  },
  {
   "cell_type": "code",
   "execution_count": 15,
   "metadata": {},
   "outputs": [],
   "source": [
    "minra = df_field_corners.loc[high_cadence_fields,['ra1','ra2','ra3','ra4']].min(axis=1)\n",
    "maxra = df_field_corners.loc[high_cadence_fields,['ra1','ra2','ra3','ra4']].max(axis=1)\n",
    "mindec = df_field_corners.loc[high_cadence_fields,['dec1','dec2','dec3','dec4']].min(axis=1)\n",
    "maxdec = df_field_corners.loc[high_cadence_fields,['dec1','dec2','dec3','dec4']].max(axis=1)"
   ]
  },
  {
   "cell_type": "code",
   "execution_count": 16,
   "metadata": {},
   "outputs": [],
   "source": [
    "!mkdir -p gaia_match"
   ]
  },
  {
   "cell_type": "code",
   "execution_count": 17,
   "metadata": {},
   "outputs": [
    {
     "name": "stdout",
     "output_type": "stream",
     "text": [
      "538\n",
      "539\n",
      "436\n",
      "437\n",
      "638\n",
      "639\n",
      "488\n",
      "489\n",
      "540\n",
      "541\n",
      "591\n",
      "592\n",
      "685\n",
      "686\n",
      "CPU times: user 4h 22min 36s, sys: 27min 27s, total: 4h 50min 4s\n",
      "Wall time: 3h 59min 47s\n"
     ]
    }
   ],
   "source": [
    "%%time\n",
    "for field in high_cadence_fields:\n",
    "    print(field)\n",
    "    gaia_match = ztf.region(ra1=minra[field], ra2=maxra[field], dec1=mindec[field], dec2=maxdec[field]).crossmatch(gaia, return_min=True).select(\"matchid\",\"combined_matchids\",\"ra\",\"dec\",\"source_id\",\"bp_rp\", \"phot_g_mean_mag\", \"phot_g_mean_flux_over_error\", \"parallax\", \"parallax_error\",\"axsdist\").toPandas()\n",
    "    gaia_match['unique_matchids'] = gaia_match.combined_matchids.apply(lambda x: list(set(x)))\n",
    "    gaia_match = gaia_match.drop('combined_matchids',axis=1)\n",
    "    gaia_match = explode_list_in_row(gaia_match)\n",
    "    gaia_match.to_hdf(f'gaia_match/gaia_match_{field}.h5','table')"
   ]
  },
  {
   "cell_type": "code",
   "execution_count": 4,
   "metadata": {},
   "outputs": [],
   "source": [
    "# example of reading in the data\n",
    "\n",
    "df_xmatch = pd.read_hdf('gaia_match/gaia_match_538.h5','table')"
   ]
  },
  {
   "cell_type": "code",
   "execution_count": 5,
   "metadata": {},
   "outputs": [
    {
     "data": {
      "text/html": [
       "<div>\n",
       "<style scoped>\n",
       "    .dataframe tbody tr th:only-of-type {\n",
       "        vertical-align: middle;\n",
       "    }\n",
       "\n",
       "    .dataframe tbody tr th {\n",
       "        vertical-align: top;\n",
       "    }\n",
       "\n",
       "    .dataframe thead th {\n",
       "        text-align: right;\n",
       "    }\n",
       "</style>\n",
       "<table border=\"1\" class=\"dataframe\">\n",
       "  <thead>\n",
       "    <tr style=\"text-align: right;\">\n",
       "      <th></th>\n",
       "      <th>bp_rp</th>\n",
       "      <th>phot_g_mean_mag</th>\n",
       "      <th>phot_g_mean_flux_over_error</th>\n",
       "      <th>parallax</th>\n",
       "      <th>parallax_error</th>\n",
       "      <th>exploded_unique_matchids_index</th>\n",
       "      <th>unique_matchids_exploded</th>\n",
       "    </tr>\n",
       "  </thead>\n",
       "  <tbody>\n",
       "    <tr>\n",
       "      <th>0</th>\n",
       "      <td>2.358892</td>\n",
       "      <td>20.794220</td>\n",
       "      <td>16.836946</td>\n",
       "      <td>NaN</td>\n",
       "      <td>NaN</td>\n",
       "      <td>0</td>\n",
       "      <td>5.380422e+14</td>\n",
       "    </tr>\n",
       "    <tr>\n",
       "      <th>1</th>\n",
       "      <td>1.534471</td>\n",
       "      <td>15.856194</td>\n",
       "      <td>1289.579346</td>\n",
       "      <td>1.530306</td>\n",
       "      <td>0.043025</td>\n",
       "      <td>0</td>\n",
       "      <td>5.380422e+14</td>\n",
       "    </tr>\n",
       "    <tr>\n",
       "      <th>2</th>\n",
       "      <td>1.286993</td>\n",
       "      <td>19.807268</td>\n",
       "      <td>167.270676</td>\n",
       "      <td>0.840598</td>\n",
       "      <td>0.518436</td>\n",
       "      <td>0</td>\n",
       "      <td>5.380422e+14</td>\n",
       "    </tr>\n",
       "    <tr>\n",
       "      <th>3</th>\n",
       "      <td>1.190068</td>\n",
       "      <td>16.152426</td>\n",
       "      <td>1201.452515</td>\n",
       "      <td>0.674399</td>\n",
       "      <td>0.052111</td>\n",
       "      <td>0</td>\n",
       "      <td>5.380422e+14</td>\n",
       "    </tr>\n",
       "    <tr>\n",
       "      <th>4</th>\n",
       "      <td>NaN</td>\n",
       "      <td>19.923656</td>\n",
       "      <td>147.267273</td>\n",
       "      <td>1.200928</td>\n",
       "      <td>0.571057</td>\n",
       "      <td>0</td>\n",
       "      <td>5.380422e+14</td>\n",
       "    </tr>\n",
       "  </tbody>\n",
       "</table>\n",
       "</div>"
      ],
      "text/plain": [
       "      bp_rp  phot_g_mean_mag  phot_g_mean_flux_over_error  parallax  \\\n",
       "0  2.358892        20.794220                    16.836946       NaN   \n",
       "1  1.534471        15.856194                  1289.579346  1.530306   \n",
       "2  1.286993        19.807268                   167.270676  0.840598   \n",
       "3  1.190068        16.152426                  1201.452515  0.674399   \n",
       "4       NaN        19.923656                   147.267273  1.200928   \n",
       "\n",
       "   parallax_error  exploded_unique_matchids_index  unique_matchids_exploded  \n",
       "0             NaN                               0              5.380422e+14  \n",
       "1        0.043025                               0              5.380422e+14  \n",
       "2        0.518436                               0              5.380422e+14  \n",
       "3        0.052111                               0              5.380422e+14  \n",
       "4        0.571057                               0              5.380422e+14  "
      ]
     },
     "execution_count": 5,
     "metadata": {},
     "output_type": "execute_result"
    }
   ],
   "source": [
    "df_xmatch.head()"
   ]
  },
  {
   "cell_type": "code",
   "execution_count": 11,
   "metadata": {},
   "outputs": [
    {
     "data": {
      "text/plain": [
       "15"
      ]
     },
     "execution_count": 11,
     "metadata": {},
     "output_type": "execute_result"
    }
   ],
   "source": [
    "df_xmatch.exploded_unique_matchids_index.max()"
   ]
  },
  {
   "cell_type": "code",
   "execution_count": 10,
   "metadata": {},
   "outputs": [
    {
     "data": {
      "text/plain": [
       "bp_rp                             float64\n",
       "phot_g_mean_mag                   float64\n",
       "phot_g_mean_flux_over_error       float64\n",
       "parallax                          float64\n",
       "parallax_error                    float64\n",
       "exploded_unique_matchids_index      int64\n",
       "unique_matchids_exploded          float64\n",
       "dtype: object"
      ]
     },
     "execution_count": 10,
     "metadata": {},
     "output_type": "execute_result"
    }
   ],
   "source": [
    "df_xmatch.dtypes"
   ]
  },
  {
   "cell_type": "markdown",
   "metadata": {},
   "source": [
    "uhoh, the matchids have turned into floats..."
   ]
  },
  {
   "cell_type": "code",
   "execution_count": 12,
   "metadata": {},
   "outputs": [
    {
     "data": {
      "text/plain": [
       "0    538042210088746\n",
       "1    538042210034044\n",
       "2    538042210035152\n",
       "3    538042210032923\n",
       "4    538042210032773\n",
       "Name: unique_matchids_exploded, dtype: int64"
      ]
     },
     "execution_count": 12,
     "metadata": {},
     "output_type": "execute_result"
    }
   ],
   "source": [
    "df_xmatch['unique_matchids_exploded'].astype(int).head()"
   ]
  },
  {
   "cell_type": "markdown",
   "metadata": {},
   "source": [
    "Let's convert the matchids back to ints and make them the index:"
   ]
  },
  {
   "cell_type": "code",
   "execution_count": 13,
   "metadata": {},
   "outputs": [],
   "source": [
    "df_xmatch['unique_matchids_exploded'] = df_xmatch['unique_matchids_exploded'].astype(int)"
   ]
  },
  {
   "cell_type": "code",
   "execution_count": 15,
   "metadata": {},
   "outputs": [],
   "source": [
    "df_xmatch = df_xmatch.set_index('unique_matchids_exploded')"
   ]
  },
  {
   "cell_type": "markdown",
   "metadata": {},
   "source": [
    "So now given a matchid we can get the Gaia parameters:"
   ]
  },
  {
   "cell_type": "code",
   "execution_count": 16,
   "metadata": {},
   "outputs": [
    {
     "data": {
      "text/plain": [
       "bp_rp                              2.358892\n",
       "phot_g_mean_mag                   20.794220\n",
       "phot_g_mean_flux_over_error       16.836946\n",
       "parallax                                NaN\n",
       "parallax_error                          NaN\n",
       "exploded_unique_matchids_index     0.000000\n",
       "Name: 538042210088746, dtype: float64"
      ]
     },
     "execution_count": 16,
     "metadata": {},
     "output_type": "execute_result"
    }
   ],
   "source": [
    "df_xmatch.loc[538042210088746]"
   ]
  },
  {
   "cell_type": "markdown",
   "metadata": {},
   "source": [
    "This assumes we want to look up Gaia values per matchid.  If we only want unique Gaia measurements, then we should restrict ourselves to `exploded_unique_matchids_index = 0` only."
   ]
  },
  {
   "cell_type": "code",
   "execution_count": 17,
   "metadata": {},
   "outputs": [
    {
     "data": {
      "text/plain": [
       "4253348"
      ]
     },
     "execution_count": 17,
     "metadata": {},
     "output_type": "execute_result"
    }
   ],
   "source": [
    "len(df_xmatch)"
   ]
  },
  {
   "cell_type": "code",
   "execution_count": 18,
   "metadata": {},
   "outputs": [
    {
     "data": {
      "text/plain": [
       "3559533"
      ]
     },
     "execution_count": 18,
     "metadata": {},
     "output_type": "execute_result"
    }
   ],
   "source": [
    "np.sum(df_xmatch.exploded_unique_matchids_index == 0)"
   ]
  }
 ],
 "metadata": {
  "kernelspec": {
   "display_name": "Python 3-AXS Spark",
   "language": "python",
   "name": "spark-smj"
  },
  "language_info": {
   "codemirror_mode": {
    "name": "ipython",
    "version": 3
   },
   "file_extension": ".py",
   "mimetype": "text/x-python",
   "name": "python",
   "nbconvert_exporter": "python",
   "pygments_lexer": "ipython3",
   "version": "3.6.8"
  }
 },
 "nbformat": 4,
 "nbformat_minor": 2
}
