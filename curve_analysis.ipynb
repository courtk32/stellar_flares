{
 "cells": [
  {
   "cell_type": "code",
   "execution_count": 1,
   "metadata": {},
   "outputs": [],
   "source": [
    "import numpy as np\n",
    "import pandas as pd\n",
    "import csv\n",
    "from matplotlib import pyplot as plt\n",
    "from FINDflare import FINDflare as ff\n",
    "import glob\n",
    "import re"
   ]
  },
  {
   "cell_type": "code",
   "execution_count": 2,
   "metadata": {},
   "outputs": [],
   "source": [
    "# find all of the light curve files\n",
    "files = glob.glob('star*.csv')\n",
    "# time, mag, err"
   ]
  },
  {
   "cell_type": "code",
   "execution_count": 11,
   "metadata": {},
   "outputs": [],
   "source": [
    "with open('found_flares.csv','w') as csv_file:\n",
    "    read = csv.reader(csv_file)\n",
    "    for f in files:\n",
    "        star = pd.read_csv(f)\n",
    "        flare = ff(star['mag'],star['err'],N1=1)\n",
    "        write = csv.writer(csv_file)\n",
    "        if flare.shape[1] > 0:\n",
    "            for i in range(flare.shape[1]):\n",
    "                write.writerow([f, flare[:,i]])\n",
    "        else:\n",
    "            write.writerow([f])"
   ]
  },
  {
   "cell_type": "code",
   "execution_count": null,
   "metadata": {},
   "outputs": [],
   "source": [
    "#%pdb"
   ]
  },
  {
   "cell_type": "code",
   "execution_count": 8,
   "metadata": {},
   "outputs": [
    {
     "name": "stdout",
     "output_type": "stream",
     "text": [
      "(2, 0)\n",
      "[]\n",
      "(2, 0)\n",
      "[]\n",
      "(2, 2)\n",
      "[[ 72.  99.]\n",
      " [ 76. 101.]]\n"
     ]
    }
   ],
   "source": [
    "N1=1   #How many times above the stddev is required, 3\n",
    "N2=1   #How many times above the stddev and uncertainty is required, 1\n",
    "N3=3   #The number of consecutive points required to flag as a flare, 3\n",
    "for f in files:\n",
    "    star = pd.read_csv(f)\n",
    "    flare = ff(star['mag'],star['err'],N1=N1,N2=N2,N3=N3)\n",
    "    print(flare.shape)\n",
    "    print(flare)\n",
    "#The first array is the starts of the flare and the second is the end "
   ]
  },
  {
   "cell_type": "code",
   "execution_count": 5,
   "metadata": {},
   "outputs": [],
   "source": [
    "#couldnt get it to work so I just read them in\n",
    "star1 = pd.read_csv('star1.csv')\n",
    "star2 = pd.read_csv('star2.csv')\n",
    "star3 = pd.read_csv('star3.csv')"
   ]
  },
  {
   "cell_type": "code",
   "execution_count": 6,
   "metadata": {},
   "outputs": [
    {
     "data": {
      "text/plain": [
       "(2, 2)"
      ]
     },
     "execution_count": 6,
     "metadata": {},
     "output_type": "execute_result"
    }
   ],
   "source": [
    "flare.shape"
   ]
  },
  {
   "cell_type": "code",
   "execution_count": null,
   "metadata": {},
   "outputs": [],
   "source": [
    "fig = plt.figure(figsize=(15, 5))\n",
    "#fig.subplots_adjust(vspace=0.3)\n",
    "\n",
    "ax = fig.add_subplot(131)\n",
    "ax.set_title('Star 1', size=15)\n",
    "ax.set_xlabel('Time', size=12)\n",
    "ax.set_ylabel('Mag', size=12)\n",
    "ax.invert_yaxis()\n",
    "ax.errorbar(star1['time'],star1['mag'],star1['err'], linestyle='none', marker='.')\n",
    "\n",
    "ax = fig.add_subplot(132)\n",
    "ax.set_title('Star 2', size=15)\n",
    "ax.set_xlabel('Time', size=12)\n",
    "ax.set_ylabel('Mag', size=12)\n",
    "ax.invert_yaxis()\n",
    "ax.plot(star2['time'],star2['mag'])\n",
    "\n",
    "ax = fig.add_subplot(133)\n",
    "ax.set_title('Star 3', size=15)\n",
    "ax.set_xlabel('Time', size=12)\n",
    "ax.set_ylabel('Mag', size=12)\n",
    "ax.invert_yaxis()\n",
    "ax.plot(star3['time'],star3['mag'])"
   ]
  },
  {
   "cell_type": "code",
   "execution_count": null,
   "metadata": {},
   "outputs": [],
   "source": []
  },
  {
   "cell_type": "code",
   "execution_count": null,
   "metadata": {},
   "outputs": [],
   "source": []
  },
  {
   "cell_type": "code",
   "execution_count": null,
   "metadata": {},
   "outputs": [],
   "source": []
  }
 ],
 "metadata": {
  "kernelspec": {
   "display_name": "Python 3",
   "language": "python",
   "name": "python3"
  },
  "language_info": {
   "codemirror_mode": {
    "name": "ipython",
    "version": 3
   },
   "file_extension": ".py",
   "mimetype": "text/x-python",
   "name": "python",
   "nbconvert_exporter": "python",
   "pygments_lexer": "ipython3",
   "version": "3.6.8"
  }
 },
 "nbformat": 4,
 "nbformat_minor": 2
}
